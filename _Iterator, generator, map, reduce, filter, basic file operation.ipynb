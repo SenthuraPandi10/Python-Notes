{
 "cells": [
  {
   "cell_type": "code",
   "execution_count": 1,
   "id": "4f12d4a3",
   "metadata": {},
   "outputs": [
    {
     "name": "stdout",
     "output_type": "stream",
     "text": [
      "1\n",
      "2\n",
      "3\n",
      "4\n",
      "5\n"
     ]
    }
   ],
   "source": [
    "l = [1,2,3,4,5]\n",
    "for i in l:\n",
    "    print(i)"
   ]
  },
  {
   "cell_type": "code",
   "execution_count": 2,
   "id": "d638868f",
   "metadata": {},
   "outputs": [],
   "source": [
    "b = iter(l)"
   ]
  },
  {
   "cell_type": "code",
   "execution_count": 3,
   "id": "3749e710",
   "metadata": {},
   "outputs": [
    {
     "data": {
      "text/plain": [
       "1"
      ]
     },
     "execution_count": 3,
     "metadata": {},
     "output_type": "execute_result"
    }
   ],
   "source": [
    "next(b)"
   ]
  },
  {
   "cell_type": "code",
   "execution_count": 4,
   "id": "403048dc",
   "metadata": {},
   "outputs": [
    {
     "data": {
      "text/plain": [
       "2"
      ]
     },
     "execution_count": 4,
     "metadata": {},
     "output_type": "execute_result"
    }
   ],
   "source": [
    "next(b)"
   ]
  },
  {
   "cell_type": "code",
   "execution_count": 5,
   "id": "7189f1a8",
   "metadata": {},
   "outputs": [
    {
     "data": {
      "text/plain": [
       "3"
      ]
     },
     "execution_count": 5,
     "metadata": {},
     "output_type": "execute_result"
    }
   ],
   "source": [
    "next(b)"
   ]
  },
  {
   "cell_type": "code",
   "execution_count": 6,
   "id": "d2e40f34",
   "metadata": {},
   "outputs": [
    {
     "data": {
      "text/plain": [
       "4"
      ]
     },
     "execution_count": 6,
     "metadata": {},
     "output_type": "execute_result"
    }
   ],
   "source": [
    "next(b)"
   ]
  },
  {
   "cell_type": "code",
   "execution_count": 7,
   "id": "d429c64b",
   "metadata": {},
   "outputs": [
    {
     "data": {
      "text/plain": [
       "5"
      ]
     },
     "execution_count": 7,
     "metadata": {},
     "output_type": "execute_result"
    }
   ],
   "source": [
    "next(b)"
   ]
  },
  {
   "cell_type": "code",
   "execution_count": 8,
   "id": "248522a0",
   "metadata": {},
   "outputs": [
    {
     "ename": "StopIteration",
     "evalue": "",
     "output_type": "error",
     "traceback": [
      "\u001b[1;31m---------------------------------------------------------------------------\u001b[0m",
      "\u001b[1;31mStopIteration\u001b[0m                             Traceback (most recent call last)",
      "\u001b[1;32m<ipython-input-8-adb3e17b0219>\u001b[0m in \u001b[0;36m<module>\u001b[1;34m\u001b[0m\n\u001b[1;32m----> 1\u001b[1;33m \u001b[0mnext\u001b[0m\u001b[1;33m(\u001b[0m\u001b[0mb\u001b[0m\u001b[1;33m)\u001b[0m\u001b[1;33m\u001b[0m\u001b[1;33m\u001b[0m\u001b[0m\n\u001b[0m",
      "\u001b[1;31mStopIteration\u001b[0m: "
     ]
    }
   ],
   "source": [
    "next(b)"
   ]
  },
  {
   "cell_type": "code",
   "execution_count": null,
   "id": "b1df800b",
   "metadata": {},
   "outputs": [],
   "source": [
    "next(45)"
   ]
  },
  {
   "cell_type": "code",
   "execution_count": null,
   "id": "fd3199f2",
   "metadata": {},
   "outputs": [],
   "source": [
    "iter(45)"
   ]
  },
  {
   "cell_type": "code",
   "execution_count": null,
   "id": "a84298b0",
   "metadata": {},
   "outputs": [],
   "source": [
    "s = 'apndi'\n"
   ]
  },
  {
   "cell_type": "code",
   "execution_count": 9,
   "id": "b5e2377c",
   "metadata": {},
   "outputs": [
    {
     "ename": "NameError",
     "evalue": "name 's' is not defined",
     "output_type": "error",
     "traceback": [
      "\u001b[1;31m---------------------------------------------------------------------------\u001b[0m",
      "\u001b[1;31mNameError\u001b[0m                                 Traceback (most recent call last)",
      "\u001b[1;32m<ipython-input-9-4ca77956f731>\u001b[0m in \u001b[0;36m<module>\u001b[1;34m\u001b[0m\n\u001b[1;32m----> 1\u001b[1;33m \u001b[0ma\u001b[0m \u001b[1;33m=\u001b[0m \u001b[0miter\u001b[0m\u001b[1;33m(\u001b[0m\u001b[0ms\u001b[0m\u001b[1;33m)\u001b[0m\u001b[1;33m\u001b[0m\u001b[1;33m\u001b[0m\u001b[0m\n\u001b[0m",
      "\u001b[1;31mNameError\u001b[0m: name 's' is not defined"
     ]
    }
   ],
   "source": [
    "a = iter(s)"
   ]
  },
  {
   "cell_type": "code",
   "execution_count": null,
   "id": "60a89400",
   "metadata": {},
   "outputs": [],
   "source": [
    "next(a)"
   ]
  },
  {
   "cell_type": "code",
   "execution_count": null,
   "id": "936edba2",
   "metadata": {},
   "outputs": [],
   "source": [
    "next(a)"
   ]
  },
  {
   "cell_type": "code",
   "execution_count": null,
   "id": "e9b07ef3",
   "metadata": {},
   "outputs": [],
   "source": [
    "next(a)"
   ]
  },
  {
   "cell_type": "code",
   "execution_count": 10,
   "id": "46d6df0d",
   "metadata": {},
   "outputs": [
    {
     "ename": "NameError",
     "evalue": "name 'a' is not defined",
     "output_type": "error",
     "traceback": [
      "\u001b[1;31m---------------------------------------------------------------------------\u001b[0m",
      "\u001b[1;31mNameError\u001b[0m                                 Traceback (most recent call last)",
      "\u001b[1;32m<ipython-input-10-15841f3f11d4>\u001b[0m in \u001b[0;36m<module>\u001b[1;34m\u001b[0m\n\u001b[1;32m----> 1\u001b[1;33m \u001b[0mnext\u001b[0m\u001b[1;33m(\u001b[0m\u001b[0ma\u001b[0m\u001b[1;33m)\u001b[0m\u001b[1;33m\u001b[0m\u001b[1;33m\u001b[0m\u001b[0m\n\u001b[0m",
      "\u001b[1;31mNameError\u001b[0m: name 'a' is not defined"
     ]
    }
   ],
   "source": [
    "next(a)"
   ]
  },
  {
   "cell_type": "code",
   "execution_count": null,
   "id": "2686e47f",
   "metadata": {},
   "outputs": [],
   "source": [
    "next(a)"
   ]
  },
  {
   "cell_type": "code",
   "execution_count": null,
   "id": "879a82f8",
   "metadata": {},
   "outputs": [],
   "source": [
    "next(a)"
   ]
  },
  {
   "cell_type": "code",
   "execution_count": null,
   "id": "172bfbfd",
   "metadata": {},
   "outputs": [],
   "source": [
    "t = (1,2,3)\n",
    "next(t)"
   ]
  },
  {
   "cell_type": "code",
   "execution_count": 11,
   "id": "4d4e325b",
   "metadata": {},
   "outputs": [
    {
     "ename": "NameError",
     "evalue": "name 't' is not defined",
     "output_type": "error",
     "traceback": [
      "\u001b[1;31m---------------------------------------------------------------------------\u001b[0m",
      "\u001b[1;31mNameError\u001b[0m                                 Traceback (most recent call last)",
      "\u001b[1;32m<ipython-input-11-5679b3670aaa>\u001b[0m in \u001b[0;36m<module>\u001b[1;34m\u001b[0m\n\u001b[1;32m----> 1\u001b[1;33m \u001b[0mt\u001b[0m \u001b[1;33m=\u001b[0m \u001b[0miter\u001b[0m\u001b[1;33m(\u001b[0m\u001b[0mt\u001b[0m\u001b[1;33m)\u001b[0m\u001b[1;33m\u001b[0m\u001b[1;33m\u001b[0m\u001b[0m\n\u001b[0m",
      "\u001b[1;31mNameError\u001b[0m: name 't' is not defined"
     ]
    }
   ],
   "source": [
    "t = iter(t)"
   ]
  },
  {
   "cell_type": "code",
   "execution_count": null,
   "id": "f52a467c",
   "metadata": {},
   "outputs": [],
   "source": [
    "next(t)"
   ]
  },
  {
   "cell_type": "code",
   "execution_count": null,
   "id": "b533bf6c",
   "metadata": {},
   "outputs": [],
   "source": [
    "next(t)"
   ]
  },
  {
   "cell_type": "code",
   "execution_count": 12,
   "id": "1fa76f4b",
   "metadata": {},
   "outputs": [
    {
     "ename": "NameError",
     "evalue": "name 't' is not defined",
     "output_type": "error",
     "traceback": [
      "\u001b[1;31m---------------------------------------------------------------------------\u001b[0m",
      "\u001b[1;31mNameError\u001b[0m                                 Traceback (most recent call last)",
      "\u001b[1;32m<ipython-input-12-f843efe259be>\u001b[0m in \u001b[0;36m<module>\u001b[1;34m\u001b[0m\n\u001b[1;32m----> 1\u001b[1;33m \u001b[0mnext\u001b[0m\u001b[1;33m(\u001b[0m\u001b[0mt\u001b[0m\u001b[1;33m)\u001b[0m\u001b[1;33m\u001b[0m\u001b[1;33m\u001b[0m\u001b[0m\n\u001b[0m",
      "\u001b[1;31mNameError\u001b[0m: name 't' is not defined"
     ]
    }
   ],
   "source": [
    "next(t)"
   ]
  },
  {
   "cell_type": "code",
   "execution_count": null,
   "id": "0512c2f7",
   "metadata": {},
   "outputs": [],
   "source": [
    "next(t)"
   ]
  },
  {
   "cell_type": "code",
   "execution_count": null,
   "id": "a745196b",
   "metadata": {},
   "outputs": [],
   "source": [
    "def sqaure(n):\n",
    "    a = [i**2 for i in range(n)]\n",
    "    return a\n",
    "        "
   ]
  },
  {
   "cell_type": "code",
   "execution_count": null,
   "id": "dec7e9ba",
   "metadata": {},
   "outputs": [],
   "source": [
    "sqaure(4)"
   ]
  },
  {
   "cell_type": "code",
   "execution_count": 13,
   "id": "fafdd248",
   "metadata": {},
   "outputs": [],
   "source": [
    "def sqr(n):\n",
    "    l = []\n",
    "    for i in range(n):\n",
    "        a = i**2\n",
    "        l.append(a)\n",
    "    print(l)"
   ]
  },
  {
   "cell_type": "code",
   "execution_count": 14,
   "id": "30dbc210",
   "metadata": {},
   "outputs": [
    {
     "name": "stdout",
     "output_type": "stream",
     "text": [
      "[0, 1, 4, 9, 16]\n"
     ]
    }
   ],
   "source": [
    "sqr(5)"
   ]
  },
  {
   "cell_type": "code",
   "execution_count": 15,
   "id": "fa17bbd0",
   "metadata": {},
   "outputs": [],
   "source": [
    "def sqaure(n):\n",
    "    a = [i**2 for i in range(n)]\n",
    "    yield a"
   ]
  },
  {
   "cell_type": "code",
   "execution_count": 16,
   "id": "dd43862b",
   "metadata": {},
   "outputs": [
    {
     "data": {
      "text/plain": [
       "<generator object sqaure at 0x00000239646F4350>"
      ]
     },
     "execution_count": 16,
     "metadata": {},
     "output_type": "execute_result"
    }
   ],
   "source": [
    "sqaure(4)"
   ]
  },
  {
   "cell_type": "code",
   "execution_count": 17,
   "id": "df8335cb",
   "metadata": {},
   "outputs": [
    {
     "name": "stdout",
     "output_type": "stream",
     "text": [
      "[0, 1, 4, 9]\n"
     ]
    }
   ],
   "source": [
    "for i in sqaure(4):\n",
    "    print(i)"
   ]
  },
  {
   "cell_type": "code",
   "execution_count": 18,
   "id": "13825cc0",
   "metadata": {},
   "outputs": [],
   "source": [
    "#fibonnaci series\n",
    "def fib(n):\n",
    "    a = 1\n",
    "    b = 1\n",
    "    l = []\n",
    "    for i in range(n):\n",
    "        l.append(a)\n",
    "        a,b = b,a+b\n",
    "    return l"
   ]
  },
  {
   "cell_type": "code",
   "execution_count": 19,
   "id": "b31f013e",
   "metadata": {},
   "outputs": [
    {
     "data": {
      "text/plain": [
       "[1, 1, 2, 3, 5, 8, 13, 21, 34, 55]"
      ]
     },
     "execution_count": 19,
     "metadata": {},
     "output_type": "execute_result"
    }
   ],
   "source": [
    "fib(10)"
   ]
  },
  {
   "cell_type": "code",
   "execution_count": 20,
   "id": "181bb853",
   "metadata": {},
   "outputs": [],
   "source": [
    "#generator fibnacci\n",
    "def fib1(n):\n",
    "    a = 1\n",
    "    b = 1\n",
    "    for i in range(n):\n",
    "        yield a\n",
    "        a,b = b,a+b"
   ]
  },
  {
   "cell_type": "code",
   "execution_count": 21,
   "id": "6601bf88",
   "metadata": {},
   "outputs": [
    {
     "data": {
      "text/plain": [
       "<generator object fib1 at 0x00000239646F4DD0>"
      ]
     },
     "execution_count": 21,
     "metadata": {},
     "output_type": "execute_result"
    }
   ],
   "source": [
    "fib1(10)"
   ]
  },
  {
   "cell_type": "code",
   "execution_count": 22,
   "id": "e7f35bc1",
   "metadata": {},
   "outputs": [
    {
     "name": "stdout",
     "output_type": "stream",
     "text": [
      "1\n",
      "1\n",
      "2\n",
      "3\n",
      "5\n",
      "8\n",
      "13\n",
      "21\n",
      "34\n",
      "55\n"
     ]
    }
   ],
   "source": [
    "for i in fib1(10):\n",
    "    print(i)"
   ]
  },
  {
   "cell_type": "code",
   "execution_count": 23,
   "id": "5f828224",
   "metadata": {},
   "outputs": [],
   "source": [
    "#file operation"
   ]
  },
  {
   "cell_type": "code",
   "execution_count": 24,
   "id": "a4b4d0c8",
   "metadata": {},
   "outputs": [
    {
     "data": {
      "text/plain": [
       "15"
      ]
     },
     "execution_count": 24,
     "metadata": {},
     "output_type": "execute_result"
    }
   ],
   "source": [
    "f = open('ny.txt','w')\n",
    "f.write('pandi kola mass')"
   ]
  },
  {
   "cell_type": "code",
   "execution_count": 25,
   "id": "cc2b1e7a",
   "metadata": {},
   "outputs": [],
   "source": [
    "f.close()"
   ]
  },
  {
   "cell_type": "code",
   "execution_count": 26,
   "id": "36d1976d",
   "metadata": {},
   "outputs": [
    {
     "name": "stdout",
     "output_type": "stream",
     "text": [
      " Volume in drive C has no label.\n",
      " Volume Serial Number is AEFD-1216\n",
      "\n",
      " Directory of C:\\Users\\Admin\\DataScience Transistion\\Python\n",
      "\n",
      "12/24/2022  11:41 PM            19,352  Iterator, generator, map, reduce, filter, basic file operation.ipynb\n",
      "12/24/2022  11:41 PM    <DIR>          .\n",
      "11/25/2022  08:30 PM    <DIR>          ..\n",
      "12/24/2022  08:31 PM    <DIR>          .ipynb_checkpoints\n",
      "12/03/2022  08:14 PM            11,523 Dictionary.ipynb\n",
      "12/24/2022  01:38 AM            27,966 Exception handling.ipynb\n",
      "12/16/2022  07:33 PM            20,845 For,while.ipynb\n",
      "12/19/2022  10:26 PM            19,389 Functions.ipynb\n",
      "12/05/2022  10:57 PM             6,967 if-elif-else.ipynb\n",
      "12/03/2022  07:21 PM            20,504 List.ipynb\n",
      "12/24/2022  11:39 PM                18 list.txt\n",
      "12/27/2022  06:11 PM                15 ny.txt\n",
      "12/23/2022  11:32 PM                14 pandi.txt\n",
      "12/21/2022  09:12 PM    <DIR>          python task\n",
      "12/03/2022  09:40 PM             6,186 set.ipynb\n",
      "11/28/2022  12:11 AM            27,210 String manipulation.ipynb\n",
      "12/03/2022  07:46 PM             7,730 Tuples.ipynb\n",
      "11/25/2022  11:02 PM             4,430 Variable python inro.ipynb\n",
      "12/14/2022  08:51 PM             8,169 while.ipynb\n",
      "              15 File(s)        180,318 bytes\n",
      "               4 Dir(s)  99,810,263,040 bytes free\n"
     ]
    }
   ],
   "source": [
    "ls"
   ]
  },
  {
   "cell_type": "code",
   "execution_count": 27,
   "id": "b42c358d",
   "metadata": {},
   "outputs": [],
   "source": [
    "l = [1,2,3,4,5,6]\n",
    "f2 = open('list.txt','w')\n",
    "f2.write(str(l))\n",
    "f2.close()"
   ]
  },
  {
   "cell_type": "code",
   "execution_count": 28,
   "id": "a7c0a6f1",
   "metadata": {},
   "outputs": [
    {
     "name": "stdout",
     "output_type": "stream",
     "text": [
      " Volume in drive C has no label.\n",
      " Volume Serial Number is AEFD-1216\n",
      "\n",
      " Directory of C:\\Users\\Admin\\DataScience Transistion\\Python\n",
      "\n",
      "12/24/2022  11:41 PM            19,352  Iterator, generator, map, reduce, filter, basic file operation.ipynb\n",
      "12/24/2022  11:41 PM    <DIR>          .\n",
      "11/25/2022  08:30 PM    <DIR>          ..\n",
      "12/24/2022  08:31 PM    <DIR>          .ipynb_checkpoints\n",
      "12/03/2022  08:14 PM            11,523 Dictionary.ipynb\n",
      "12/24/2022  01:38 AM            27,966 Exception handling.ipynb\n",
      "12/16/2022  07:33 PM            20,845 For,while.ipynb\n",
      "12/19/2022  10:26 PM            19,389 Functions.ipynb\n",
      "12/05/2022  10:57 PM             6,967 if-elif-else.ipynb\n",
      "12/03/2022  07:21 PM            20,504 List.ipynb\n",
      "12/27/2022  06:11 PM                18 list.txt\n",
      "12/27/2022  06:11 PM                15 ny.txt\n",
      "12/23/2022  11:32 PM                14 pandi.txt\n",
      "12/21/2022  09:12 PM    <DIR>          python task\n",
      "12/03/2022  09:40 PM             6,186 set.ipynb\n",
      "11/28/2022  12:11 AM            27,210 String manipulation.ipynb\n",
      "12/03/2022  07:46 PM             7,730 Tuples.ipynb\n",
      "11/25/2022  11:02 PM             4,430 Variable python inro.ipynb\n",
      "12/14/2022  08:51 PM             8,169 while.ipynb\n",
      "              15 File(s)        180,318 bytes\n",
      "               4 Dir(s)  99,810,263,040 bytes free\n"
     ]
    }
   ],
   "source": [
    "ls"
   ]
  },
  {
   "cell_type": "code",
   "execution_count": 34,
   "id": "f46f0674",
   "metadata": {
    "scrolled": true
   },
   "outputs": [
    {
     "name": "stdout",
     "output_type": "stream",
     "text": [
      " Volume in drive C has no label.\n",
      " Volume Serial Number is AEFD-1216\n",
      "\n",
      " Directory of C:\\Users\\Admin\\DataScience Transistion\\Python\n",
      "\n",
      "12/27/2022  06:15 PM            18,272  Iterator, generator, map, reduce, filter, basic file operation.ipynb\n",
      "12/27/2022  06:16 PM    <DIR>          .\n",
      "11/25/2022  08:30 PM    <DIR>          ..\n",
      "12/24/2022  08:31 PM    <DIR>          .ipynb_checkpoints\n",
      "12/03/2022  08:14 PM            11,523 Dictionary.ipynb\n",
      "12/24/2022  01:38 AM            27,966 Exception handling.ipynb\n",
      "12/16/2022  07:33 PM            20,845 For,while.ipynb\n",
      "12/19/2022  10:26 PM            19,389 Functions.ipynb\n",
      "12/05/2022  10:57 PM             6,967 if-elif-else.ipynb\n",
      "12/03/2022  07:21 PM            20,504 List.ipynb\n",
      "12/27/2022  06:11 PM                18 list.txt\n",
      "12/27/2022  06:11 PM                15 ny.txt\n",
      "12/23/2022  11:32 PM                14 pandi.txt\n",
      "12/27/2022  06:16 PM                37 pandi1.txt\n",
      "12/21/2022  09:12 PM    <DIR>          python task\n",
      "12/03/2022  09:40 PM             6,186 set.ipynb\n",
      "11/28/2022  12:11 AM            27,210 String manipulation.ipynb\n",
      "12/03/2022  07:46 PM             7,730 Tuples.ipynb\n",
      "11/25/2022  11:02 PM             4,430 Variable python inro.ipynb\n",
      "12/14/2022  08:51 PM             8,169 while.ipynb\n",
      "              16 File(s)        179,275 bytes\n",
      "               4 Dir(s)  99,786,457,088 bytes free\n"
     ]
    }
   ],
   "source": [
    "ls"
   ]
  },
  {
   "cell_type": "code",
   "execution_count": 36,
   "id": "7822dde1",
   "metadata": {},
   "outputs": [],
   "source": [
    "#it stores diff diff type of file\n",
    "n = open('pandi.sudh','w')\n",
    "n.write('sootha mudu')\n",
    "n.close()"
   ]
  },
  {
   "cell_type": "code",
   "execution_count": 38,
   "id": "a8961cb2",
   "metadata": {},
   "outputs": [
    {
     "name": "stdout",
     "output_type": "stream",
     "text": [
      "Overwriting pandi1.txt\n"
     ]
    }
   ],
   "source": [
    "%%writefile pandi1.txt\n",
    "this is my first program  pandimass\n",
    "this is my first program  pandimass\n",
    "this is my first program  pandimass\n",
    "this is my first program  pandimass\n",
    "this is my first program  pandimass\n",
    "this is my first program  pandimass"
   ]
  },
  {
   "cell_type": "code",
   "execution_count": 41,
   "id": "ee7876ae",
   "metadata": {},
   "outputs": [
    {
     "data": {
      "text/plain": [
       "'this is my first program  pandimass\\nthis is my first program  pandimass\\nthis is my first program  pandimass\\nthis is my first program  pandimass\\nthis is my first program  pandimass\\nthis is my first program  pandimass\\n'"
      ]
     },
     "execution_count": 41,
     "metadata": {},
     "output_type": "execute_result"
    }
   ],
   "source": [
    "#read operation\n",
    "f = open('pandi1.txt','r')\n",
    "f.read()"
   ]
  },
  {
   "cell_type": "code",
   "execution_count": 42,
   "id": "56818c08",
   "metadata": {},
   "outputs": [
    {
     "data": {
      "text/plain": [
       "''"
      ]
     },
     "execution_count": 42,
     "metadata": {},
     "output_type": "execute_result"
    }
   ],
   "source": [
    "#why it is giving blank data because the read operation is already exhausted,so in this case we have operation called 'seek'\n",
    "f.read()"
   ]
  },
  {
   "cell_type": "code",
   "execution_count": 43,
   "id": "a0177ab8",
   "metadata": {},
   "outputs": [
    {
     "data": {
      "text/plain": [
       "0"
      ]
     },
     "execution_count": 43,
     "metadata": {},
     "output_type": "execute_result"
    }
   ],
   "source": [
    "f.seek(0)#0 basically means the pointer starts from 0 index"
   ]
  },
  {
   "cell_type": "code",
   "execution_count": 44,
   "id": "06ab535e",
   "metadata": {},
   "outputs": [
    {
     "data": {
      "text/plain": [
       "'this is my first program  pandimass\\nthis is my first program  pandimass\\nthis is my first program  pandimass\\nthis is my first program  pandimass\\nthis is my first program  pandimass\\nthis is my first program  pandimass\\n'"
      ]
     },
     "execution_count": 44,
     "metadata": {},
     "output_type": "execute_result"
    }
   ],
   "source": [
    "f.read()"
   ]
  },
  {
   "cell_type": "code",
   "execution_count": 45,
   "id": "a365f401",
   "metadata": {},
   "outputs": [
    {
     "data": {
      "text/plain": [
       "''"
      ]
     },
     "execution_count": 45,
     "metadata": {},
     "output_type": "execute_result"
    }
   ],
   "source": [
    "f.read()"
   ]
  },
  {
   "cell_type": "code",
   "execution_count": 46,
   "id": "c2ca2ee6",
   "metadata": {},
   "outputs": [
    {
     "data": {
      "text/plain": [
       "0"
      ]
     },
     "execution_count": 46,
     "metadata": {},
     "output_type": "execute_result"
    }
   ],
   "source": [
    "f.seek(0)"
   ]
  },
  {
   "cell_type": "code",
   "execution_count": 47,
   "id": "44604d45",
   "metadata": {},
   "outputs": [
    {
     "data": {
      "text/plain": [
       "4"
      ]
     },
     "execution_count": 47,
     "metadata": {},
     "output_type": "execute_result"
    }
   ],
   "source": [
    "f.seek(4)"
   ]
  },
  {
   "cell_type": "code",
   "execution_count": 48,
   "id": "c29e8cd8",
   "metadata": {},
   "outputs": [
    {
     "data": {
      "text/plain": [
       "' is my first program  pandimass\\nthis is my first program  pandimass\\nthis is my first program  pandimass\\nthis is my first program  pandimass\\nthis is my first program  pandimass\\nthis is my first program  pandimass\\n'"
      ]
     },
     "execution_count": 48,
     "metadata": {},
     "output_type": "execute_result"
    }
   ],
   "source": [
    "f.read()"
   ]
  },
  {
   "cell_type": "code",
   "execution_count": 49,
   "id": "c8757a2f",
   "metadata": {},
   "outputs": [],
   "source": [
    "f1 = open('pandi1.txt')"
   ]
  },
  {
   "cell_type": "code",
   "execution_count": 50,
   "id": "b75564e2",
   "metadata": {},
   "outputs": [
    {
     "data": {
      "text/plain": [
       "'this is my first program  pandimass\\nthis is my first program  pandimass\\nthis is my first program  pandimass\\nthis is my first program  pandimass\\nthis is my first program  pandimass\\nthis is my first program  pandimass\\n'"
      ]
     },
     "execution_count": 50,
     "metadata": {},
     "output_type": "execute_result"
    }
   ],
   "source": [
    "f1.read()"
   ]
  },
  {
   "cell_type": "code",
   "execution_count": 52,
   "id": "88fdb850",
   "metadata": {},
   "outputs": [
    {
     "data": {
      "text/plain": [
       "222"
      ]
     },
     "execution_count": 52,
     "metadata": {},
     "output_type": "execute_result"
    }
   ],
   "source": [
    "f1.tell()#it basically tells where is my pointer is located at."
   ]
  },
  {
   "cell_type": "code",
   "execution_count": 56,
   "id": "426fe86b",
   "metadata": {},
   "outputs": [
    {
     "data": {
      "text/plain": [
       "10"
      ]
     },
     "execution_count": 56,
     "metadata": {},
     "output_type": "execute_result"
    }
   ],
   "source": [
    "f1.seek(10)"
   ]
  },
  {
   "cell_type": "code",
   "execution_count": 57,
   "id": "84b9548d",
   "metadata": {},
   "outputs": [
    {
     "data": {
      "text/plain": [
       "10"
      ]
     },
     "execution_count": 57,
     "metadata": {},
     "output_type": "execute_result"
    }
   ],
   "source": [
    "f1.tell()"
   ]
  },
  {
   "cell_type": "code",
   "execution_count": 58,
   "id": "d12088e9",
   "metadata": {},
   "outputs": [
    {
     "data": {
      "text/plain": [
       "' first program  pandimass\\nthis is my first program  pandimass\\nthis is my first program  pandimass\\nthis is my first program  pandimass\\nthis is my first program  pandimass\\nthis is my first program  pandimass\\n'"
      ]
     },
     "execution_count": 58,
     "metadata": {},
     "output_type": "execute_result"
    }
   ],
   "source": [
    "f1.read()"
   ]
  },
  {
   "cell_type": "code",
   "execution_count": 60,
   "id": "6929c996",
   "metadata": {},
   "outputs": [
    {
     "data": {
      "text/plain": [
       "''"
      ]
     },
     "execution_count": 60,
     "metadata": {},
     "output_type": "execute_result"
    }
   ],
   "source": [
    "f1.read()"
   ]
  },
  {
   "cell_type": "code",
   "execution_count": 61,
   "id": "ee0aba1b",
   "metadata": {},
   "outputs": [
    {
     "data": {
      "text/plain": [
       "5"
      ]
     },
     "execution_count": 61,
     "metadata": {},
     "output_type": "execute_result"
    }
   ],
   "source": [
    "f1.seek(5)"
   ]
  },
  {
   "cell_type": "code",
   "execution_count": 62,
   "id": "aa3c8d70",
   "metadata": {},
   "outputs": [
    {
     "data": {
      "text/plain": [
       "5"
      ]
     },
     "execution_count": 62,
     "metadata": {},
     "output_type": "execute_result"
    }
   ],
   "source": [
    "f1.tell()"
   ]
  },
  {
   "cell_type": "code",
   "execution_count": 65,
   "id": "98071cfb",
   "metadata": {},
   "outputs": [
    {
     "data": {
      "text/plain": [
       "''"
      ]
     },
     "execution_count": 65,
     "metadata": {},
     "output_type": "execute_result"
    }
   ],
   "source": [
    "f1.read(15)"
   ]
  },
  {
   "cell_type": "code",
   "execution_count": 66,
   "id": "fc015d77",
   "metadata": {},
   "outputs": [
    {
     "data": {
      "text/plain": [
       "''"
      ]
     },
     "execution_count": 66,
     "metadata": {},
     "output_type": "execute_result"
    }
   ],
   "source": [
    "f1.read()"
   ]
  },
  {
   "cell_type": "code",
   "execution_count": 67,
   "id": "37e20bfa",
   "metadata": {},
   "outputs": [
    {
     "data": {
      "text/plain": [
       "0"
      ]
     },
     "execution_count": 67,
     "metadata": {},
     "output_type": "execute_result"
    }
   ],
   "source": [
    "f1.seek(0)"
   ]
  },
  {
   "cell_type": "code",
   "execution_count": 68,
   "id": "e8e55e3e",
   "metadata": {},
   "outputs": [
    {
     "data": {
      "text/plain": [
       "'this is my first program  pandimass\\nthis is my first program  pandimass\\nthis is my first program  pandimass\\nthis is my first program  pandimass\\nthis is my first program  pandimass\\nthis is my first program  pandimass\\n'"
      ]
     },
     "execution_count": 68,
     "metadata": {},
     "output_type": "execute_result"
    }
   ],
   "source": [
    "f1.read()"
   ]
  },
  {
   "cell_type": "code",
   "execution_count": 69,
   "id": "9428b9c1",
   "metadata": {},
   "outputs": [
    {
     "data": {
      "text/plain": [
       "''"
      ]
     },
     "execution_count": 69,
     "metadata": {},
     "output_type": "execute_result"
    }
   ],
   "source": [
    "f1.readline()"
   ]
  },
  {
   "cell_type": "code",
   "execution_count": 70,
   "id": "82cfb627",
   "metadata": {},
   "outputs": [
    {
     "data": {
      "text/plain": [
       "0"
      ]
     },
     "execution_count": 70,
     "metadata": {},
     "output_type": "execute_result"
    }
   ],
   "source": [
    "f1.seek(0)"
   ]
  },
  {
   "cell_type": "code",
   "execution_count": 71,
   "id": "02d29d7c",
   "metadata": {},
   "outputs": [
    {
     "data": {
      "text/plain": [
       "'this is my first program  pandimass\\n'"
      ]
     },
     "execution_count": 71,
     "metadata": {},
     "output_type": "execute_result"
    }
   ],
   "source": [
    "f1.readline() #it will read single line"
   ]
  },
  {
   "cell_type": "code",
   "execution_count": 73,
   "id": "c7c27a1c",
   "metadata": {},
   "outputs": [
    {
     "data": {
      "text/plain": [
       "[]"
      ]
     },
     "execution_count": 73,
     "metadata": {},
     "output_type": "execute_result"
    }
   ],
   "source": [
    "f1.readlines()#it will read all data and store it in list format"
   ]
  },
  {
   "cell_type": "code",
   "execution_count": 74,
   "id": "5ba57005",
   "metadata": {},
   "outputs": [
    {
     "data": {
      "text/plain": [
       "0"
      ]
     },
     "execution_count": 74,
     "metadata": {},
     "output_type": "execute_result"
    }
   ],
   "source": [
    "f1.seek(0)"
   ]
  },
  {
   "cell_type": "code",
   "execution_count": 75,
   "id": "d127b105",
   "metadata": {},
   "outputs": [
    {
     "data": {
      "text/plain": [
       "['this is my first program  pandimass\\n',\n",
       " 'this is my first program  pandimass\\n',\n",
       " 'this is my first program  pandimass\\n',\n",
       " 'this is my first program  pandimass\\n',\n",
       " 'this is my first program  pandimass\\n',\n",
       " 'this is my first program  pandimass\\n']"
      ]
     },
     "execution_count": 75,
     "metadata": {},
     "output_type": "execute_result"
    }
   ],
   "source": [
    "f1.readlines()"
   ]
  },
  {
   "cell_type": "code",
   "execution_count": 76,
   "id": "9f590d5c",
   "metadata": {},
   "outputs": [
    {
     "data": {
      "text/plain": [
       "5"
      ]
     },
     "execution_count": 76,
     "metadata": {},
     "output_type": "execute_result"
    }
   ],
   "source": [
    "f1.fileno()"
   ]
  },
  {
   "cell_type": "code",
   "execution_count": 77,
   "id": "0634b769",
   "metadata": {},
   "outputs": [],
   "source": [
    "f = open('nakku.txt','w')\n",
    "f.write('poda sunni')\n",
    "f.close()"
   ]
  },
  {
   "cell_type": "code",
   "execution_count": 80,
   "id": "bca312a3",
   "metadata": {},
   "outputs": [],
   "source": [
    "f = open('nakku.txt','w')\n",
    "f.write('djsigjklghsdjklhfjklhsdgjkl;hdjkl')\n",
    "f.close() #it basically overwrites our data.in such case we should use append operation"
   ]
  },
  {
   "cell_type": "code",
   "execution_count": 81,
   "id": "0da86e48",
   "metadata": {},
   "outputs": [],
   "source": [
    "f = open('nakku.txt','a')\n",
    "f.write('this my append operation')\n",
    "f.close()"
   ]
  },
  {
   "cell_type": "code",
   "execution_count": 83,
   "id": "dab1116e",
   "metadata": {},
   "outputs": [
    {
     "data": {
      "text/plain": [
       "'nakku.txt'"
      ]
     },
     "execution_count": 83,
     "metadata": {},
     "output_type": "execute_result"
    }
   ],
   "source": [
    "f.name"
   ]
  },
  {
   "cell_type": "code",
   "execution_count": 84,
   "id": "732c1914",
   "metadata": {},
   "outputs": [
    {
     "data": {
      "text/plain": [
       "True"
      ]
     },
     "execution_count": 84,
     "metadata": {},
     "output_type": "execute_result"
    }
   ],
   "source": [
    "f.closed"
   ]
  },
  {
   "cell_type": "code",
   "execution_count": 85,
   "id": "36b42938",
   "metadata": {},
   "outputs": [
    {
     "data": {
      "text/plain": [
       "'a'"
      ]
     },
     "execution_count": 85,
     "metadata": {},
     "output_type": "execute_result"
    }
   ],
   "source": [
    "f.mode"
   ]
  },
  {
   "cell_type": "code",
   "execution_count": 87,
   "id": "d2a2a4b5",
   "metadata": {},
   "outputs": [],
   "source": [
    "f = open('M:\\pandi.txt','w+')\n",
    "f.write('pabndi masss')\n",
    "f.close()"
   ]
  },
  {
   "cell_type": "code",
   "execution_count": null,
   "id": "f1bb5d91",
   "metadata": {},
   "outputs": [],
   "source": [
    "#map,reduce and filter"
   ]
  },
  {
   "cell_type": "code",
   "execution_count": null,
   "id": "8bfac0c9",
   "metadata": {},
   "outputs": [],
   "source": [
    "l = [1,2,3,4,5,6]"
   ]
  },
  {
   "cell_type": "code",
   "execution_count": 107,
   "id": "2e112b02",
   "metadata": {},
   "outputs": [],
   "source": [
    "def ret_sqr(n):\n",
    "    return n**2"
   ]
  },
  {
   "cell_type": "code",
   "execution_count": 109,
   "id": "7c15f586",
   "metadata": {},
   "outputs": [
    {
     "data": {
      "text/plain": [
       "[1, 4, 9, 16, 25, 36]"
      ]
     },
     "execution_count": 109,
     "metadata": {},
     "output_type": "execute_result"
    }
   ],
   "source": [
    "list(map(ret_sqr,l))"
   ]
  },
  {
   "cell_type": "code",
   "execution_count": 110,
   "id": "77a9dabd",
   "metadata": {},
   "outputs": [
    {
     "data": {
      "text/plain": [
       "[1, 4, 9, 16, 25, 36]"
      ]
     },
     "execution_count": 110,
     "metadata": {},
     "output_type": "execute_result"
    }
   ],
   "source": [
    "list(map(lambda x:x**2,l))"
   ]
  },
  {
   "cell_type": "code",
   "execution_count": 111,
   "id": "ac29d6ad",
   "metadata": {},
   "outputs": [
    {
     "data": {
      "text/plain": [
       "['1', '2', '3', '4', '5', '6']"
      ]
     },
     "execution_count": 111,
     "metadata": {},
     "output_type": "execute_result"
    }
   ],
   "source": [
    "list(map(lambda x :str(x),l))"
   ]
  },
  {
   "cell_type": "code",
   "execution_count": 112,
   "id": "82dc88b0",
   "metadata": {},
   "outputs": [],
   "source": [
    "def st_l(n):\n",
    "    return str(n)"
   ]
  },
  {
   "cell_type": "code",
   "execution_count": 113,
   "id": "1faad6e2",
   "metadata": {},
   "outputs": [
    {
     "data": {
      "text/plain": [
       "['1', '2', '3', '4', '5', '6']"
      ]
     },
     "execution_count": 113,
     "metadata": {},
     "output_type": "execute_result"
    }
   ],
   "source": [
    "list(map(st_l,l))"
   ]
  },
  {
   "cell_type": "code",
   "execution_count": null,
   "id": "6f273746",
   "metadata": {},
   "outputs": [],
   "source": []
  },
  {
   "cell_type": "code",
   "execution_count": null,
   "id": "fb424fa4",
   "metadata": {},
   "outputs": [],
   "source": []
  },
  {
   "cell_type": "code",
   "execution_count": null,
   "id": "f36bfa6e",
   "metadata": {},
   "outputs": [],
   "source": []
  },
  {
   "cell_type": "code",
   "execution_count": 96,
   "id": "cba38af5",
   "metadata": {},
   "outputs": [
    {
     "data": {
      "text/plain": [
       "[1, 4, 9, 16, 25, 36]"
      ]
     },
     "execution_count": 96,
     "metadata": {},
     "output_type": "execute_result"
    }
   ],
   "source": [
    "l = [1,2,3,4,5,6]\n",
    "[i**2 for i in l] #one way"
   ]
  },
  {
   "cell_type": "code",
   "execution_count": 106,
   "id": "7c0a4c42",
   "metadata": {},
   "outputs": [
    {
     "name": "stdout",
     "output_type": "stream",
     "text": [
      "[1, 4, 9, 16, 25, 36]\n"
     ]
    }
   ],
   "source": [
    "l = [1,2,3,4,5,6]\n",
    "n = []\n",
    "for i in l:\n",
    "    n.append(i**2)\n",
    "print(n)"
   ]
  },
  {
   "cell_type": "code",
   "execution_count": 103,
   "id": "6964c6ff",
   "metadata": {},
   "outputs": [],
   "source": [
    "l = [1,2,3,4,5,6]\n",
    "def return_sqr():\n",
    "    m = []\n",
    "    for i in l:\n",
    "        a = i**2\n",
    "        m.append(a)\n",
    "    return m"
   ]
  },
  {
   "cell_type": "code",
   "execution_count": 104,
   "id": "8c120939",
   "metadata": {},
   "outputs": [
    {
     "data": {
      "text/plain": [
       "[1, 4, 9, 16, 25, 36]"
      ]
     },
     "execution_count": 104,
     "metadata": {},
     "output_type": "execute_result"
    }
   ],
   "source": [
    "return_sqr() #another way"
   ]
  },
  {
   "cell_type": "code",
   "execution_count": 114,
   "id": "52887aa8",
   "metadata": {},
   "outputs": [],
   "source": [
    "#reduce"
   ]
  },
  {
   "cell_type": "code",
   "execution_count": 115,
   "id": "56a02064",
   "metadata": {},
   "outputs": [],
   "source": [
    "from functools import reduce"
   ]
  },
  {
   "cell_type": "code",
   "execution_count": 141,
   "id": "7242b03f",
   "metadata": {},
   "outputs": [
    {
     "data": {
      "text/plain": [
       "21"
      ]
     },
     "execution_count": 141,
     "metadata": {},
     "output_type": "execute_result"
    }
   ],
   "source": [
    "l = [1,2,3,4,5,6]\n",
    "sum(l)"
   ]
  },
  {
   "cell_type": "code",
   "execution_count": 154,
   "id": "2ba3fddb",
   "metadata": {},
   "outputs": [
    {
     "data": {
      "text/plain": [
       "21"
      ]
     },
     "execution_count": 154,
     "metadata": {},
     "output_type": "execute_result"
    }
   ],
   "source": [
    "reduce(lambda a,b:a+b,l)"
   ]
  },
  {
   "cell_type": "code",
   "execution_count": 155,
   "id": "339d91d9",
   "metadata": {},
   "outputs": [
    {
     "data": {
      "text/plain": [
       "720"
      ]
     },
     "execution_count": 155,
     "metadata": {},
     "output_type": "execute_result"
    }
   ],
   "source": [
    "reduce(lambda a,b:a*b,l)"
   ]
  },
  {
   "cell_type": "code",
   "execution_count": 149,
   "id": "7acf4da4",
   "metadata": {},
   "outputs": [],
   "source": [
    "l = [1,2,3,4,5,6]"
   ]
  },
  {
   "cell_type": "code",
   "execution_count": 152,
   "id": "358d80c1",
   "metadata": {},
   "outputs": [],
   "source": [
    "def multiplyList(myList):\n",
    "    result = 1\n",
    "    for x in myList:\n",
    "        result = result * x\n",
    "    return result"
   ]
  },
  {
   "cell_type": "code",
   "execution_count": 153,
   "id": "2c155214",
   "metadata": {},
   "outputs": [
    {
     "data": {
      "text/plain": [
       "720"
      ]
     },
     "execution_count": 153,
     "metadata": {},
     "output_type": "execute_result"
    }
   ],
   "source": [
    "multiplyList(l)"
   ]
  },
  {
   "cell_type": "code",
   "execution_count": null,
   "id": "d2f0a522",
   "metadata": {},
   "outputs": [],
   "source": [
    "#filter "
   ]
  },
  {
   "cell_type": "code",
   "execution_count": 156,
   "id": "cb1ad8ed",
   "metadata": {},
   "outputs": [],
   "source": [
    "l = [1,2,3,4,5,6]\n",
    "m = []\n",
    "for i in l:\n",
    "    if i%2==0:\n",
    "        m.append(i)"
   ]
  },
  {
   "cell_type": "code",
   "execution_count": 157,
   "id": "dabc9638",
   "metadata": {},
   "outputs": [
    {
     "data": {
      "text/plain": [
       "[2, 4, 6]"
      ]
     },
     "execution_count": 157,
     "metadata": {},
     "output_type": "execute_result"
    }
   ],
   "source": [
    "m"
   ]
  },
  {
   "cell_type": "code",
   "execution_count": 159,
   "id": "3e4fc6b0",
   "metadata": {},
   "outputs": [],
   "source": [
    "l = [1,2,3,4,5,6]"
   ]
  },
  {
   "cell_type": "code",
   "execution_count": 161,
   "id": "4dff2835",
   "metadata": {},
   "outputs": [
    {
     "data": {
      "text/plain": [
       "[2, 4, 6]"
      ]
     },
     "execution_count": 161,
     "metadata": {},
     "output_type": "execute_result"
    }
   ],
   "source": [
    "list(filter(lambda x : x%2==0,l))"
   ]
  },
  {
   "cell_type": "code",
   "execution_count": 162,
   "id": "bec81257",
   "metadata": {},
   "outputs": [],
   "source": [
    "def ret_even(n):\n",
    "    return n%2==0"
   ]
  },
  {
   "cell_type": "code",
   "execution_count": 164,
   "id": "016ef3b8",
   "metadata": {},
   "outputs": [
    {
     "data": {
      "text/plain": [
       "[2, 4, 6]"
      ]
     },
     "execution_count": 164,
     "metadata": {},
     "output_type": "execute_result"
    }
   ],
   "source": [
    "list(filter(ret_even,l))"
   ]
  },
  {
   "cell_type": "code",
   "execution_count": null,
   "id": "90e2836e",
   "metadata": {},
   "outputs": [],
   "source": []
  }
 ],
 "metadata": {
  "kernelspec": {
   "display_name": "Python 3",
   "language": "python",
   "name": "python3"
  },
  "language_info": {
   "codemirror_mode": {
    "name": "ipython",
    "version": 3
   },
   "file_extension": ".py",
   "mimetype": "text/x-python",
   "name": "python",
   "nbconvert_exporter": "python",
   "pygments_lexer": "ipython3",
   "version": "3.8.8"
  }
 },
 "nbformat": 4,
 "nbformat_minor": 5
}
