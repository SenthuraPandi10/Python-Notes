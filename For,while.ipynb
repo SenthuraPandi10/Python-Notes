{
 "cells": [
  {
   "cell_type": "code",
   "execution_count": 1,
   "id": "5e43a6f7",
   "metadata": {},
   "outputs": [],
   "source": [
    "l = [1,2,3,4,5,'sudh',True,20.6]"
   ]
  },
  {
   "cell_type": "code",
   "execution_count": 2,
   "id": "208c2184",
   "metadata": {},
   "outputs": [
    {
     "name": "stdout",
     "output_type": "stream",
     "text": [
      "2\n",
      "3\n",
      "4\n",
      "5\n",
      "6\n"
     ]
    },
    {
     "ename": "TypeError",
     "evalue": "can only concatenate str (not \"int\") to str",
     "output_type": "error",
     "traceback": [
      "\u001b[1;31m---------------------------------------------------------------------------\u001b[0m",
      "\u001b[1;31mTypeError\u001b[0m                                 Traceback (most recent call last)",
      "\u001b[1;32m<ipython-input-2-8840afee3391>\u001b[0m in \u001b[0;36m<module>\u001b[1;34m\u001b[0m\n\u001b[0;32m      1\u001b[0m \u001b[1;32mfor\u001b[0m \u001b[0mi\u001b[0m \u001b[1;32min\u001b[0m \u001b[0ml\u001b[0m\u001b[1;33m:\u001b[0m\u001b[1;33m\u001b[0m\u001b[1;33m\u001b[0m\u001b[0m\n\u001b[1;32m----> 2\u001b[1;33m     \u001b[0mprint\u001b[0m\u001b[1;33m(\u001b[0m\u001b[0mi\u001b[0m\u001b[1;33m+\u001b[0m\u001b[1;36m1\u001b[0m\u001b[1;33m)\u001b[0m\u001b[1;33m\u001b[0m\u001b[1;33m\u001b[0m\u001b[0m\n\u001b[0m",
      "\u001b[1;31mTypeError\u001b[0m: can only concatenate str (not \"int\") to str"
     ]
    }
   ],
   "source": [
    "for i in l:\n",
    "    print(i+1)"
   ]
  },
  {
   "cell_type": "code",
   "execution_count": null,
   "id": "6097b142",
   "metadata": {},
   "outputs": [],
   "source": [
    "for i in l:\n",
    "    if type(i)==int or type(i)==float:\n",
    "        print(i+1)\n",
    "    elif type(i)==str:\n",
    "        print(i+str(1))"
   ]
  },
  {
   "cell_type": "code",
   "execution_count": null,
   "id": "2964a413",
   "metadata": {},
   "outputs": [],
   "source": [
    "l"
   ]
  },
  {
   "cell_type": "code",
   "execution_count": null,
   "id": "3331d3f9",
   "metadata": {},
   "outputs": [],
   "source": [
    "d = []\n",
    "for i in l:\n",
    "    if type(i)==int:\n",
    "        d.append(i)"
   ]
  },
  {
   "cell_type": "code",
   "execution_count": 3,
   "id": "f6bceeba",
   "metadata": {},
   "outputs": [
    {
     "ename": "NameError",
     "evalue": "name 'd' is not defined",
     "output_type": "error",
     "traceback": [
      "\u001b[1;31m---------------------------------------------------------------------------\u001b[0m",
      "\u001b[1;31mNameError\u001b[0m                                 Traceback (most recent call last)",
      "\u001b[1;32m<ipython-input-3-e983f374794d>\u001b[0m in \u001b[0;36m<module>\u001b[1;34m\u001b[0m\n\u001b[1;32m----> 1\u001b[1;33m \u001b[0md\u001b[0m\u001b[1;33m\u001b[0m\u001b[1;33m\u001b[0m\u001b[0m\n\u001b[0m",
      "\u001b[1;31mNameError\u001b[0m: name 'd' is not defined"
     ]
    }
   ],
   "source": [
    "d"
   ]
  },
  {
   "cell_type": "code",
   "execution_count": null,
   "id": "5985f768",
   "metadata": {},
   "outputs": [],
   "source": [
    "l"
   ]
  },
  {
   "cell_type": "code",
   "execution_count": null,
   "id": "04759de1",
   "metadata": {},
   "outputs": [],
   "source": [
    "for i in l:\n",
    "    pass #if i dont want to write body part i can write pass"
   ]
  },
  {
   "cell_type": "code",
   "execution_count": null,
   "id": "e45569ad",
   "metadata": {},
   "outputs": [],
   "source": [
    "s = 'pandi'\n",
    "for i in s: #basically i is a local varibale instead of i we can use any name\n",
    "    print(i)"
   ]
  },
  {
   "cell_type": "code",
   "execution_count": 4,
   "id": "7a69a7f4",
   "metadata": {},
   "outputs": [
    {
     "data": {
      "text/plain": [
       "[1, 2, 3, 4, 5, 'sudh', True, 20.6]"
      ]
     },
     "execution_count": 4,
     "metadata": {},
     "output_type": "execute_result"
    }
   ],
   "source": [
    "l"
   ]
  },
  {
   "cell_type": "code",
   "execution_count": 5,
   "id": "f061407f",
   "metadata": {},
   "outputs": [
    {
     "name": "stdout",
     "output_type": "stream",
     "text": [
      "1\n",
      "2\n",
      "3\n",
      "4\n",
      "5\n",
      "sudh\n",
      "True\n",
      "20.6\n",
      "nakku\n"
     ]
    }
   ],
   "source": [
    "for i in l:\n",
    "    print(i) #bascially here for looop is exhausted in natural order\n",
    "else:\n",
    "    print('nakku')"
   ]
  },
  {
   "cell_type": "code",
   "execution_count": 6,
   "id": "a3edded5",
   "metadata": {},
   "outputs": [
    {
     "data": {
      "text/plain": [
       "[1, 2, 3, 4, 5, 'sudh', True, 20.6]"
      ]
     },
     "execution_count": 6,
     "metadata": {},
     "output_type": "execute_result"
    }
   ],
   "source": [
    "l"
   ]
  },
  {
   "cell_type": "code",
   "execution_count": 7,
   "id": "7e22cdbd",
   "metadata": {},
   "outputs": [
    {
     "name": "stdout",
     "output_type": "stream",
     "text": [
      "1\n",
      "2\n",
      "3\n"
     ]
    }
   ],
   "source": [
    "for i in l:\n",
    "    if i==4:\n",
    "        break\n",
    "    print(i)\n",
    "else:\n",
    "    print('nakku')"
   ]
  },
  {
   "cell_type": "code",
   "execution_count": 8,
   "id": "d65ce1ca",
   "metadata": {},
   "outputs": [
    {
     "name": "stdout",
     "output_type": "stream",
     "text": [
      "s\n",
      "e\n",
      "n\n",
      "t\n",
      "h\n",
      "u\n",
      "r\n",
      "p\n",
      "n\n",
      "d\n",
      "i\n",
      "nothing\n"
     ]
    }
   ],
   "source": [
    "s = 'senthurapandi'\n",
    "for i in s:\n",
    "    if i=='a':\n",
    "        continue\n",
    "    print(i)\n",
    "else:\n",
    "    print('nothing')"
   ]
  },
  {
   "cell_type": "code",
   "execution_count": 9,
   "id": "d4d01867",
   "metadata": {},
   "outputs": [
    {
     "name": "stdout",
     "output_type": "stream",
     "text": [
      "s\n",
      "e\n",
      "n\n",
      "t\n",
      "h\n",
      "u\n",
      "r\n"
     ]
    }
   ],
   "source": [
    "s = 'senthurapandi'\n",
    "for i in s:\n",
    "    if i=='a':\n",
    "        break\n",
    "    print(i)\n",
    "else:\n",
    "    print('nothing')"
   ]
  },
  {
   "cell_type": "code",
   "execution_count": 10,
   "id": "a83f4027",
   "metadata": {},
   "outputs": [
    {
     "name": "stdout",
     "output_type": "stream",
     "text": [
      "1\n",
      "2\n",
      "3\n",
      "4\n",
      "5\n",
      "6\n"
     ]
    }
   ],
   "source": [
    "t = (1,2,3,4,5,6)\n",
    "for i in t:\n",
    "    print(i)"
   ]
  },
  {
   "cell_type": "code",
   "execution_count": 11,
   "id": "5647973a",
   "metadata": {},
   "outputs": [
    {
     "name": "stdout",
     "output_type": "stream",
     "text": [
      "{1, 2, 3, 4, 5, 6, 7, 333}\n"
     ]
    }
   ],
   "source": [
    "s = {1,2,3,333,3,3,4,5,6,7}\n",
    "print(s)"
   ]
  },
  {
   "cell_type": "code",
   "execution_count": 12,
   "id": "d820b34e",
   "metadata": {},
   "outputs": [
    {
     "name": "stdout",
     "output_type": "stream",
     "text": [
      "1\n",
      "2\n",
      "3\n",
      "4\n",
      "5\n",
      "6\n",
      "7\n",
      "333\n"
     ]
    }
   ],
   "source": [
    "for i in s:\n",
    "    print(i)"
   ]
  },
  {
   "cell_type": "code",
   "execution_count": 13,
   "id": "3e5e8f4e",
   "metadata": {},
   "outputs": [
    {
     "name": "stdout",
     "output_type": "stream",
     "text": [
      "xyz\n",
      "20\n",
      "5.1\n"
     ]
    }
   ],
   "source": [
    "d = {'name' : 'xyz','age' : 20,'height' : 5.10}\n",
    "for i in d.values():\n",
    "    print(i)"
   ]
  },
  {
   "cell_type": "code",
   "execution_count": 14,
   "id": "a17061c3",
   "metadata": {},
   "outputs": [
    {
     "name": "stdout",
     "output_type": "stream",
     "text": [
      "name : xyz\n",
      "age : 20\n",
      "height : 5.1\n"
     ]
    }
   ],
   "source": [
    "d = {'name' : 'xyz','age' : 20,'height' : 5.10}\n",
    "for i in d:\n",
    "    print(i,':',d[i])"
   ]
  },
  {
   "cell_type": "code",
   "execution_count": 15,
   "id": "6e41166e",
   "metadata": {},
   "outputs": [
    {
     "data": {
      "text/plain": [
       "range(0, 9)"
      ]
     },
     "execution_count": 15,
     "metadata": {},
     "output_type": "execute_result"
    }
   ],
   "source": [
    "range(9)"
   ]
  },
  {
   "cell_type": "code",
   "execution_count": 16,
   "id": "26320744",
   "metadata": {},
   "outputs": [
    {
     "name": "stdout",
     "output_type": "stream",
     "text": [
      "0\n",
      "2\n",
      "4\n",
      "6\n",
      "8\n"
     ]
    }
   ],
   "source": [
    "for i in range(0,9,2):\n",
    "    print(i)"
   ]
  },
  {
   "cell_type": "code",
   "execution_count": 17,
   "id": "83db4176",
   "metadata": {},
   "outputs": [
    {
     "data": {
      "text/plain": [
       "[0, 1, 2, 3, 4, 5, 6, 7, 8]"
      ]
     },
     "execution_count": 17,
     "metadata": {},
     "output_type": "execute_result"
    }
   ],
   "source": [
    "list(range(9))"
   ]
  },
  {
   "cell_type": "code",
   "execution_count": 18,
   "id": "4959826c",
   "metadata": {},
   "outputs": [
    {
     "data": {
      "text/plain": [
       "(0, 1, 2, 3, 4, 5, 6, 7, 8)"
      ]
     },
     "execution_count": 18,
     "metadata": {},
     "output_type": "execute_result"
    }
   ],
   "source": [
    "tuple(range(9))"
   ]
  },
  {
   "cell_type": "code",
   "execution_count": 19,
   "id": "1b059c2d",
   "metadata": {},
   "outputs": [
    {
     "name": "stdout",
     "output_type": "stream",
     "text": [
      "1 \n",
      "2 3 \n",
      "4 5 6 \n",
      "7 8 9 10 \n"
     ]
    }
   ],
   "source": [
    "number = 1\n",
    "for i in range(4):\n",
    "    for j in range(i+1):\n",
    "        print(number,end = ' ')\n",
    "        number=number+1\n",
    "    num = 1\n",
    "    print()"
   ]
  },
  {
   "cell_type": "code",
   "execution_count": 20,
   "id": "87eec542",
   "metadata": {},
   "outputs": [
    {
     "name": "stdout",
     "output_type": "stream",
     "text": [
      "sudh \n",
      "\n",
      "sudh sudh \n",
      "\n",
      "sudh sudh sudh \n",
      "\n",
      "sudh sudh sudh sudh \n",
      "\n"
     ]
    }
   ],
   "source": [
    "num = 4\n",
    "for i in range(4):\n",
    "    for j in range(0,i+1):\n",
    "        print('sudh',end = ' ')\n",
    "    print('\\n')"
   ]
  },
  {
   "cell_type": "code",
   "execution_count": 21,
   "id": "4c8c029c",
   "metadata": {},
   "outputs": [
    {
     "name": "stdout",
     "output_type": "stream",
     "text": [
      "    sudh \n",
      "  sudh sudh \n",
      "sudh sudh sudh \n"
     ]
    }
   ],
   "source": [
    "num = 3\n",
    "for i in range(3):\n",
    "    for j in range(-2,-i):\n",
    "        print(' ',end =' ')\n",
    "    for k in range(i+1):\n",
    "        print('sudh',end = ' ')\n",
    "    print()"
   ]
  },
  {
   "cell_type": "code",
   "execution_count": 22,
   "id": "1858642a",
   "metadata": {},
   "outputs": [
    {
     "name": "stdout",
     "output_type": "stream",
     "text": [
      "sudh \n",
      "\n",
      "sudh sudh \n",
      "\n",
      "sudh sudh sudh \n",
      "\n",
      "sudh sudh sudh sudh \n",
      "\n"
     ]
    }
   ],
   "source": [
    "num = 4\n",
    "for i in range(4):\n",
    "    for j in range(0,i+1):\n",
    "        print('sudh',end= ' ')\n",
    "    print('\\n')"
   ]
  },
  {
   "cell_type": "code",
   "execution_count": 23,
   "id": "93636b19",
   "metadata": {},
   "outputs": [
    {
     "name": "stdout",
     "output_type": "stream",
     "text": [
      "    sudh \n",
      "  sudh sudh \n",
      "sudh sudh sudh \n"
     ]
    }
   ],
   "source": [
    "num = 3\n",
    "for i in range(3):\n",
    "    for j in range(-2,-i):\n",
    "        print(' ',end = ' ')\n",
    "    for k in range(i+1):\n",
    "        print('sudh',end =' ')\n",
    "    print()"
   ]
  },
  {
   "cell_type": "code",
   "execution_count": 24,
   "id": "95427b66",
   "metadata": {},
   "outputs": [
    {
     "name": "stdout",
     "output_type": "stream",
     "text": [
      "pandi \n",
      "\n",
      "pandi pandi \n",
      "\n",
      "pandi pandi pandi \n",
      "\n",
      "pandi pandi pandi pandi \n",
      "\n"
     ]
    }
   ],
   "source": [
    "n = 4\n",
    "for i in range(n):\n",
    "    for j in range(0,i+1):\n",
    "        print('pandi',end = ' ')\n",
    "    print('\\n')"
   ]
  },
  {
   "cell_type": "code",
   "execution_count": 35,
   "id": "eba666ed",
   "metadata": {},
   "outputs": [
    {
     "name": "stdout",
     "output_type": "stream",
     "text": [
      "      pandi  \n",
      "    pandi pandi  \n",
      "  pandi pandi pandi  \n"
     ]
    }
   ],
   "source": [
    "n = 3\n",
    "for i in range(n):\n",
    "    for j in range(-3,-i):\n",
    "        print(' ',end = ' ')\n",
    "    for k in range(i+1):\n",
    "        print('pandi',end = ' ')\n",
    "    print(' ')            "
   ]
  },
  {
   "cell_type": "code",
   "execution_count": 36,
   "id": "0df9bc47",
   "metadata": {},
   "outputs": [
    {
     "name": "stdout",
     "output_type": "stream",
     "text": [
      "          sudh \n",
      "     sudh sudh sudh \n",
      "sudh sudh sudh sudh sudh \n"
     ]
    }
   ],
   "source": [
    "n = 3\n",
    "for i in range(n):\n",
    "    for j in range(i,n-1):\n",
    "        print(' '*len('sudh'),end = ' ')\n",
    "    for k in range(i+1):\n",
    "        print('sudh',end = ' ')\n",
    "    for l in range(i):\n",
    "        print('sudh',end = ' ')\n",
    "    print()"
   ]
  },
  {
   "cell_type": "code",
   "execution_count": 42,
   "id": "0f571211",
   "metadata": {},
   "outputs": [],
   "source": [
    "t = (3,23,45,67,2,4,5,6)"
   ]
  },
  {
   "cell_type": "code",
   "execution_count": 52,
   "id": "ef58d00d",
   "metadata": {},
   "outputs": [
    {
     "name": "stdout",
     "output_type": "stream",
     "text": [
      "0 index :  3\n",
      "1 index :  23\n",
      "2 index :  45\n",
      "3 index :  67\n",
      "4 index :  2\n",
      "5 index :  4\n",
      "6 index :  5\n",
      "7 index :  6\n"
     ]
    }
   ],
   "source": [
    "for i in range(len(t)) :\n",
    "    print(i,'index : ',t[i])"
   ]
  },
  {
   "cell_type": "code",
   "execution_count": 68,
   "id": "aefdfe17",
   "metadata": {},
   "outputs": [
    {
     "name": "stdout",
     "output_type": "stream",
     "text": [
      "0 index: i\n",
      "1 index: n\n",
      "2 index: e\n",
      "3 index: u\n",
      "4 index: r\n",
      "5 index: o\n",
      "6 index: n\n"
     ]
    }
   ],
   "source": [
    "s = 'ineuron'\n",
    "for i in range(len(s)):\n",
    "    print(i,'index:',s[i])"
   ]
  },
  {
   "cell_type": "code",
   "execution_count": 96,
   "id": "c051d543",
   "metadata": {},
   "outputs": [
    {
     "name": "stdout",
     "output_type": "stream",
     "text": [
      "6 n\n",
      "5 o\n",
      "4 r\n",
      "3 u\n",
      "2 e\n",
      "1 n\n"
     ]
    }
   ],
   "source": [
    "s = 'ineuron'\n",
    "for i in range(len(s)-1,0,-1):\n",
    "    print(i,s[i])"
   ]
  },
  {
   "cell_type": "code",
   "execution_count": 97,
   "id": "6cfe923f",
   "metadata": {},
   "outputs": [
    {
     "data": {
      "text/plain": [
       "{'name': 'xyz', 'age': 20, 'height': 5.1}"
      ]
     },
     "execution_count": 97,
     "metadata": {},
     "output_type": "execute_result"
    }
   ],
   "source": [
    "d"
   ]
  },
  {
   "cell_type": "code",
   "execution_count": 102,
   "id": "a83536f7",
   "metadata": {},
   "outputs": [
    {
     "name": "stdout",
     "output_type": "stream",
     "text": [
      "('name', 'xyz') <class 'tuple'> <class 'str'>\n",
      "('age', 20) <class 'tuple'> <class 'int'>\n",
      "('height', 5.1) <class 'tuple'> <class 'float'>\n"
     ]
    }
   ],
   "source": [
    "for i in d.items():\n",
    "    print(i,type(i),type(i[1]))"
   ]
  },
  {
   "cell_type": "code",
   "execution_count": 109,
   "id": "b2113106",
   "metadata": {},
   "outputs": [
    {
     "name": "stdout",
     "output_type": "stream",
     "text": [
      "[43553, 34, 45]\n"
     ]
    }
   ],
   "source": [
    "l = [\"sudh\",'pandi',43553,'pandimads@gmail.com',34,45]\n",
    "s = []\n",
    "for i in l :\n",
    "    if type(i)==int:\n",
    "        s.append(i)\n",
    "print(s)"
   ]
  },
  {
   "cell_type": "code",
   "execution_count": 135,
   "id": "e326d481",
   "metadata": {},
   "outputs": [],
   "source": [
    "d = {1:123,'name':'pandi','mail':'pandimads@gmail.com',230:'fdh','45':'hnsdh',234:'djh'}"
   ]
  },
  {
   "cell_type": "code",
   "execution_count": 136,
   "id": "2b00b32e",
   "metadata": {},
   "outputs": [
    {
     "data": {
      "text/plain": [
       "dict_keys([1, 'name', 'mail', 230, '45', 234])"
      ]
     },
     "execution_count": 136,
     "metadata": {},
     "output_type": "execute_result"
    }
   ],
   "source": [
    "d.keys()"
   ]
  },
  {
   "cell_type": "code",
   "execution_count": 137,
   "id": "c225727c",
   "metadata": {},
   "outputs": [
    {
     "name": "stdout",
     "output_type": "stream",
     "text": [
      "[1, 230, 234]\n"
     ]
    }
   ],
   "source": [
    "l = []\n",
    "for i in d.keys():\n",
    "    if type(i)==int:\n",
    "        l.append(i)\n",
    "print(l)"
   ]
  },
  {
   "cell_type": "code",
   "execution_count": 138,
   "id": "eb413403",
   "metadata": {},
   "outputs": [
    {
     "name": "stdout",
     "output_type": "stream",
     "text": [
      "1 : 123\n",
      "230 : fdh\n",
      "234 : djh\n"
     ]
    }
   ],
   "source": [
    "for i in d.keys():\n",
    "    if type(i)==int:\n",
    "        print(i,':',d[i])"
   ]
  },
  {
   "cell_type": "code",
   "execution_count": 144,
   "id": "e87b7409",
   "metadata": {},
   "outputs": [
    {
     "name": "stdout",
     "output_type": "stream",
     "text": [
      "a : 4\n",
      "b : 3\n",
      "c : 2\n",
      "d : 1\n"
     ]
    }
   ],
   "source": [
    "s = 'aaaabbbccd'\n",
    "print('a' ,':', s.count('a'))\n",
    "print('b' ,':', s.count('b'))\n",
    "print('c' ,':', s.count('c'))\n",
    "print('d' ,':', s.count('d'))"
   ]
  },
  {
   "cell_type": "code",
   "execution_count": 153,
   "id": "456b1828",
   "metadata": {},
   "outputs": [
    {
     "name": "stdout",
     "output_type": "stream",
     "text": [
      "c 2\n",
      "b 3\n",
      "a 4\n",
      "d 1\n"
     ]
    }
   ],
   "source": [
    "for i in set(s):\n",
    "    print(i,s.count(i))"
   ]
  },
  {
   "cell_type": "code",
   "execution_count": 162,
   "id": "ffa58c96",
   "metadata": {},
   "outputs": [
    {
     "name": "stdout",
     "output_type": "stream",
     "text": [
      "4\n",
      "6\n",
      "5\n",
      "4\n",
      "5\n",
      "6\n",
      "5\n",
      "6\n",
      "5\n"
     ]
    }
   ],
   "source": [
    "i = 465456565\n",
    "for j in str(i):\n",
    "    print(int(j))"
   ]
  },
  {
   "cell_type": "code",
   "execution_count": 180,
   "id": "2902c34d",
   "metadata": {},
   "outputs": [],
   "source": [
    "t = ('pandi','kumar',[1,2,3,4,5],(3,1,2,4),{3:3,'key2':'nakku'})"
   ]
  },
  {
   "cell_type": "code",
   "execution_count": 190,
   "id": "f0366267",
   "metadata": {},
   "outputs": [
    {
     "name": "stdout",
     "output_type": "stream",
     "text": [
      "3\n",
      "3\n",
      "3\n",
      "3\n"
     ]
    }
   ],
   "source": [
    "for i in t:\n",
    "    if type(i)==list:\n",
    "        print(i[2])\n",
    "    if type(i)==tuple:\n",
    "        print(i[0])\n",
    "    if type(i)==dict:\n",
    "        for k,v in i.items():\n",
    "            if k==3 or v==3:\n",
    "                print(k)\n",
    "                print(v)"
   ]
  },
  {
   "cell_type": "code",
   "execution_count": 179,
   "id": "9ab249a1",
   "metadata": {},
   "outputs": [
    {
     "name": "stdout",
     "output_type": "stream",
     "text": [
      "3\n",
      "3\n",
      "3\n"
     ]
    }
   ],
   "source": [
    "for i in t:\n",
    "    if type(i)==list or type(i)==tuple or type(i)==dict:\n",
    "        for j in i:\n",
    "            if j==3:\n",
    "                print(j)"
   ]
  },
  {
   "cell_type": "code",
   "execution_count": null,
   "id": "dadb2c69",
   "metadata": {},
   "outputs": [],
   "source": [
    "a = {}"
   ]
  }
 ],
 "metadata": {
  "kernelspec": {
   "display_name": "Python 3",
   "language": "python",
   "name": "python3"
  },
  "language_info": {
   "codemirror_mode": {
    "name": "ipython",
    "version": 3
   },
   "file_extension": ".py",
   "mimetype": "text/x-python",
   "name": "python",
   "nbconvert_exporter": "python",
   "pygments_lexer": "ipython3",
   "version": "3.8.8"
  }
 },
 "nbformat": 4,
 "nbformat_minor": 5
}
