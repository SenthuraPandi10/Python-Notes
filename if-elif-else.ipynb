{
 "cells": [
  {
   "cell_type": "code",
   "execution_count": 9,
   "id": "d351e733",
   "metadata": {},
   "outputs": [
    {
     "name": "stdout",
     "output_type": "stream",
     "text": [
      "pandi is great\n"
     ]
    }
   ],
   "source": [
    "a = 10\n",
    "if a==10: #== is an comparison operator and = is an assignment operator\n",
    "    print('pandi is great')\n",
    "else:\n",
    "    print('pandi is waste')"
   ]
  },
  {
   "cell_type": "code",
   "execution_count": 10,
   "id": "b5da9e19",
   "metadata": {},
   "outputs": [],
   "source": [
    "a = 5\n",
    "if a>10:\n",
    "    pass"
   ]
  },
  {
   "cell_type": "code",
   "execution_count": 11,
   "id": "4fa708b2",
   "metadata": {},
   "outputs": [
    {
     "name": "stdout",
     "output_type": "stream",
     "text": [
      "conditon is false\n"
     ]
    }
   ],
   "source": [
    "a = 15\n",
    "if a<20:\n",
    "    print('conditon is false')"
   ]
  },
  {
   "cell_type": "code",
   "execution_count": 12,
   "id": "bf5d5d01",
   "metadata": {},
   "outputs": [
    {
     "name": "stdout",
     "output_type": "stream",
     "text": [
      "condition is false\n"
     ]
    }
   ],
   "source": [
    "a = 15\n",
    "if a!=11:\n",
    "    print('condition is false')\n",
    "else:\n",
    "    print('condition is true')"
   ]
  },
  {
   "cell_type": "code",
   "execution_count": 13,
   "id": "2754dfbc",
   "metadata": {},
   "outputs": [
    {
     "name": "stdout",
     "output_type": "stream",
     "text": [
      "sootha mudu\n"
     ]
    }
   ],
   "source": [
    "a = 10\n",
    "if a == 11:\n",
    "    print('condition is false')\n",
    "elif a == 12:\n",
    "    print('again condition is false')\n",
    "else:\n",
    "    print('sootha mudu')"
   ]
  },
  {
   "cell_type": "code",
   "execution_count": 14,
   "id": "40b233ff",
   "metadata": {},
   "outputs": [
    {
     "name": "stdout",
     "output_type": "stream",
     "text": [
      "Enter an number : 100\n",
      "true condition\n"
     ]
    }
   ],
   "source": [
    "a = int(input('Enter an number : '))\n",
    "if a%2==0:\n",
    "    print('true condition')\n",
    "else:\n",
    "    print('false condition')"
   ]
  },
  {
   "cell_type": "code",
   "execution_count": 15,
   "id": "a6dfb515",
   "metadata": {},
   "outputs": [
    {
     "name": "stdout",
     "output_type": "stream",
     "text": [
      "i will buy black jacket\n"
     ]
    }
   ],
   "source": [
    "price = 500\n",
    "if price>500:\n",
    "    print('i will not buy')\n",
    "elif price<500:\n",
    "    print('i will buy jacket')\n",
    "elif price==500:\n",
    "    print('i will buy black jacket')\n",
    "else:\n",
    "    print('nothing')"
   ]
  },
  {
   "cell_type": "code",
   "execution_count": 16,
   "id": "4704fd6b",
   "metadata": {},
   "outputs": [
    {
     "name": "stdout",
     "output_type": "stream",
     "text": [
      "do some task\n"
     ]
    }
   ],
   "source": [
    "l = [1,2,3,4,5,6]\n",
    "if 2 in l:\n",
    "    print('do some task')\n",
    "elif 60 in l:\n",
    "    print('mass')\n",
    "else:\n",
    "    print(nothing)"
   ]
  },
  {
   "cell_type": "code",
   "execution_count": 20,
   "id": "4d2cc72b",
   "metadata": {},
   "outputs": [
    {
     "name": "stdout",
     "output_type": "stream",
     "text": [
      "enter an number : 600\n",
      "nakku\n",
      "i will buy royal things\n"
     ]
    }
   ],
   "source": [
    "price = int(input('enter an number : '))\n",
    "if price<500:\n",
    "    print('i will buy somehting')\n",
    "    if price<400:\n",
    "        print('i wll buy a jacket')\n",
    "    elif price<300:\n",
    "        print('i will buy a tshit ')\n",
    "    else:\n",
    "        print('nothing')\n",
    "else:\n",
    "    print('nakku')\n",
    "    if price>500:\n",
    "        print('i will buy royal things')"
   ]
  },
  {
   "cell_type": "code",
   "execution_count": 22,
   "id": "10487aa1",
   "metadata": {},
   "outputs": [
    {
     "name": "stdout",
     "output_type": "stream",
     "text": [
      "enter an number : 400\n",
      "NO gre\n",
      "Toefl\n"
     ]
    }
   ],
   "source": [
    "marks = int(input('enter an number : '))\n",
    "if marks<600:\n",
    "    print('NO gre')\n",
    "    if marks<500:\n",
    "        print('Toefl')\n",
    "        if marks<400:\n",
    "            print('try something else')\n",
    "    else:\n",
    "        print('you got toefl')\n",
    "else:\n",
    "    print('you got Gre')"
   ]
  },
  {
   "cell_type": "code",
   "execution_count": 23,
   "id": "9912be51",
   "metadata": {},
   "outputs": [
    {
     "name": "stdout",
     "output_type": "stream",
     "text": [
      "enter an number : 4.5\n",
      "enter value is positive\n"
     ]
    }
   ],
   "source": [
    "value = float(input('enter an number : '))\n",
    "if value>=0:\n",
    "    if value==0:\n",
    "        print('entered value is zero')\n",
    "    else:\n",
    "        print('enter value is positive')\n",
    "else:\n",
    "    print('entered value is negative')"
   ]
  },
  {
   "cell_type": "code",
   "execution_count": 24,
   "id": "797c6971",
   "metadata": {},
   "outputs": [
    {
     "name": "stdout",
     "output_type": "stream",
     "text": [
      "nothing\n"
     ]
    }
   ],
   "source": [
    "a = 10\n",
    "if a<10 and a>10:\n",
    "    print('something')\n",
    "else:\n",
    "    print('nothing')"
   ]
  },
  {
   "cell_type": "code",
   "execution_count": 31,
   "id": "af842844",
   "metadata": {},
   "outputs": [],
   "source": [
    "a = 10\n",
    "b = 20\n",
    "c = 30\n",
    "d = 40\n",
    "if a==11 and b==20 and c==30 and d==40: #F*T*T=no ouput\n",
    "    print('True')"
   ]
  },
  {
   "cell_type": "code",
   "execution_count": 37,
   "id": "1f2866dd",
   "metadata": {},
   "outputs": [],
   "source": [
    "d = {'name':'senthura','Age':20,'fresher':'Yes'}"
   ]
  },
  {
   "cell_type": "code",
   "execution_count": 39,
   "id": "bc3d2556",
   "metadata": {},
   "outputs": [
    {
     "name": "stdout",
     "output_type": "stream",
     "text": [
      "awesome\n",
      "dict_values(['senthura', 20, 'Yes'])\n"
     ]
    }
   ],
   "source": [
    "if d['name']=='senthura' and d['Age']==20 and d['fresher']=='Yes':\n",
    "    print('awesome')\n",
    "    print(d.values())"
   ]
  },
  {
   "cell_type": "code",
   "execution_count": null,
   "id": "48bc2976",
   "metadata": {},
   "outputs": [],
   "source": []
  }
 ],
 "metadata": {
  "kernelspec": {
   "display_name": "Python 3",
   "language": "python",
   "name": "python3"
  },
  "language_info": {
   "codemirror_mode": {
    "name": "ipython",
    "version": 3
   },
   "file_extension": ".py",
   "mimetype": "text/x-python",
   "name": "python",
   "nbconvert_exporter": "python",
   "pygments_lexer": "ipython3",
   "version": "3.8.8"
  }
 },
 "nbformat": 4,
 "nbformat_minor": 5
}
