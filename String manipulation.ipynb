{
 "cells": [
  {
   "cell_type": "code",
   "execution_count": 1,
   "id": "a9a27b80",
   "metadata": {},
   "outputs": [],
   "source": [
    "d = 'ineuron'"
   ]
  },
  {
   "cell_type": "code",
   "execution_count": 2,
   "id": "541c7384",
   "metadata": {},
   "outputs": [
    {
     "data": {
      "text/plain": [
       "str"
      ]
     },
     "execution_count": 2,
     "metadata": {},
     "output_type": "execute_result"
    }
   ],
   "source": [
    "type(d)"
   ]
  },
  {
   "cell_type": "code",
   "execution_count": 3,
   "id": "fc1b93f5",
   "metadata": {},
   "outputs": [
    {
     "data": {
      "text/plain": [
       "'i'"
      ]
     },
     "execution_count": 3,
     "metadata": {},
     "output_type": "execute_result"
    }
   ],
   "source": [
    "d[0]"
   ]
  },
  {
   "cell_type": "code",
   "execution_count": 4,
   "id": "6c51082a",
   "metadata": {},
   "outputs": [
    {
     "data": {
      "text/plain": [
       "'n'"
      ]
     },
     "execution_count": 4,
     "metadata": {},
     "output_type": "execute_result"
    }
   ],
   "source": [
    "d[-1]"
   ]
  },
  {
   "cell_type": "code",
   "execution_count": 5,
   "id": "c8fd65c2",
   "metadata": {},
   "outputs": [
    {
     "data": {
      "text/plain": [
       "'n'"
      ]
     },
     "execution_count": 5,
     "metadata": {},
     "output_type": "execute_result"
    }
   ],
   "source": [
    "d[-1]"
   ]
  },
  {
   "cell_type": "code",
   "execution_count": 6,
   "id": "993bef80",
   "metadata": {},
   "outputs": [
    {
     "data": {
      "text/plain": [
       "' '"
      ]
     },
     "execution_count": 6,
     "metadata": {},
     "output_type": "execute_result"
    }
   ],
   "source": [
    "#here it excludes upperbound because it is the nature of the string\n",
    "a = \"pandi is a good programmer\"\n",
    "a[5]"
   ]
  },
  {
   "cell_type": "code",
   "execution_count": 7,
   "id": "5eab06d5",
   "metadata": {},
   "outputs": [
    {
     "data": {
      "text/plain": [
       "'pandi is'"
      ]
     },
     "execution_count": 7,
     "metadata": {},
     "output_type": "execute_result"
    }
   ],
   "source": [
    "a[0:8]"
   ]
  },
  {
   "cell_type": "code",
   "execution_count": 8,
   "id": "547d458e",
   "metadata": {},
   "outputs": [
    {
     "data": {
      "text/plain": [
       "'pnii  odporme'"
      ]
     },
     "execution_count": 8,
     "metadata": {},
     "output_type": "execute_result"
    }
   ],
   "source": [
    "a[0:30:2]"
   ]
  },
  {
   "cell_type": "code",
   "execution_count": 9,
   "id": "334444f3",
   "metadata": {},
   "outputs": [
    {
     "data": {
      "text/plain": [
       "''"
      ]
     },
     "execution_count": 9,
     "metadata": {},
     "output_type": "execute_result"
    }
   ],
   "source": [
    "b = 'senthurapandi'\n",
    "b[0:13:-1]"
   ]
  },
  {
   "cell_type": "code",
   "execution_count": 10,
   "id": "913eed6f",
   "metadata": {},
   "outputs": [
    {
     "data": {
      "text/plain": [
       "'idnaparuhtne'"
      ]
     },
     "execution_count": 10,
     "metadata": {},
     "output_type": "execute_result"
    }
   ],
   "source": [
    "b[13:0:-1]"
   ]
  },
  {
   "cell_type": "code",
   "execution_count": 11,
   "id": "480f71ee",
   "metadata": {},
   "outputs": [
    {
     "data": {
      "text/plain": [
       "'inprhn'"
      ]
     },
     "execution_count": 11,
     "metadata": {},
     "output_type": "execute_result"
    }
   ],
   "source": [
    "b[13:0:-2]"
   ]
  },
  {
   "cell_type": "code",
   "execution_count": 12,
   "id": "868c398d",
   "metadata": {},
   "outputs": [
    {
     "data": {
      "text/plain": [
       "'senthurapa'"
      ]
     },
     "execution_count": 12,
     "metadata": {},
     "output_type": "execute_result"
    }
   ],
   "source": [
    "b[:-3]"
   ]
  },
  {
   "cell_type": "code",
   "execution_count": 13,
   "id": "4200509f",
   "metadata": {},
   "outputs": [
    {
     "data": {
      "text/plain": [
       "'enthurapandi'"
      ]
     },
     "execution_count": 13,
     "metadata": {},
     "output_type": "execute_result"
    }
   ],
   "source": [
    "b[1:]"
   ]
  },
  {
   "cell_type": "code",
   "execution_count": 14,
   "id": "9787a91f",
   "metadata": {},
   "outputs": [
    {
     "data": {
      "text/plain": [
       "'senthurapandi'"
      ]
     },
     "execution_count": 14,
     "metadata": {},
     "output_type": "execute_result"
    }
   ],
   "source": [
    "b[::1]"
   ]
  },
  {
   "cell_type": "code",
   "execution_count": 15,
   "id": "477f8881",
   "metadata": {},
   "outputs": [
    {
     "data": {
      "text/plain": [
       "'idnaparuhtnes'"
      ]
     },
     "execution_count": 15,
     "metadata": {},
     "output_type": "execute_result"
    }
   ],
   "source": [
    "b[::-1]"
   ]
  },
  {
   "cell_type": "code",
   "execution_count": 16,
   "id": "ea764b80",
   "metadata": {},
   "outputs": [
    {
     "data": {
      "text/plain": [
       "'hsenom'"
      ]
     },
     "execution_count": 16,
     "metadata": {},
     "output_type": "execute_result"
    }
   ],
   "source": [
    "s3 = 'monesh'\n",
    "s3[::-1]"
   ]
  },
  {
   "cell_type": "code",
   "execution_count": 17,
   "id": "cdc23514",
   "metadata": {},
   "outputs": [
    {
     "data": {
      "text/plain": [
       "'mns'"
      ]
     },
     "execution_count": 17,
     "metadata": {},
     "output_type": "execute_result"
    }
   ],
   "source": [
    "s3[0:50:2]"
   ]
  },
  {
   "cell_type": "code",
   "execution_count": 18,
   "id": "47dc64ee",
   "metadata": {},
   "outputs": [
    {
     "data": {
      "text/plain": [
       "'mone'"
      ]
     },
     "execution_count": 18,
     "metadata": {},
     "output_type": "execute_result"
    }
   ],
   "source": [
    "s3[-7:-2:1]"
   ]
  },
  {
   "cell_type": "code",
   "execution_count": 29,
   "id": "3d89db9d",
   "metadata": {},
   "outputs": [
    {
     "data": {
      "text/plain": [
       "''"
      ]
     },
     "execution_count": 29,
     "metadata": {},
     "output_type": "execute_result"
    }
   ],
   "source": [
    "s4 = \"senthurapandi\"\n",
    "s4[:-1:-1]"
   ]
  },
  {
   "cell_type": "code",
   "execution_count": 30,
   "id": "31cb6ac5",
   "metadata": {},
   "outputs": [
    {
     "ename": "TypeError",
     "evalue": "can only concatenate str (not \"int\") to str",
     "output_type": "error",
     "traceback": [
      "\u001b[1;31m---------------------------------------------------------------------------\u001b[0m",
      "\u001b[1;31mTypeError\u001b[0m                                 Traceback (most recent call last)",
      "\u001b[1;32m<ipython-input-30-73d7a68144ce>\u001b[0m in \u001b[0;36m<module>\u001b[1;34m\u001b[0m\n\u001b[1;32m----> 1\u001b[1;33m \u001b[0ms4\u001b[0m\u001b[1;33m+\u001b[0m\u001b[1;36m4\u001b[0m \u001b[1;31m#here it is showing error because arithmetic operation is not possible when we have diff datatypes\u001b[0m\u001b[1;33m\u001b[0m\u001b[1;33m\u001b[0m\u001b[0m\n\u001b[0m",
      "\u001b[1;31mTypeError\u001b[0m: can only concatenate str (not \"int\") to str"
     ]
    }
   ],
   "source": [
    "s4+4 #here it is showing error because concatenate operation is not possible when we have diff datatypes"
   ]
  },
  {
   "cell_type": "code",
   "execution_count": 31,
   "id": "9056fa57",
   "metadata": {},
   "outputs": [
    {
     "data": {
      "text/plain": [
       "'senthurapandi1'"
      ]
     },
     "execution_count": 31,
     "metadata": {},
     "output_type": "execute_result"
    }
   ],
   "source": [
    "#so we type caste it\n",
    "s4+str(1)"
   ]
  },
  {
   "cell_type": "code",
   "execution_count": 32,
   "id": "7e05944b",
   "metadata": {},
   "outputs": [
    {
     "data": {
      "text/plain": [
       "13"
      ]
     },
     "execution_count": 32,
     "metadata": {},
     "output_type": "execute_result"
    }
   ],
   "source": [
    "len(s4)"
   ]
  },
  {
   "cell_type": "code",
   "execution_count": 33,
   "id": "e1c607e8",
   "metadata": {},
   "outputs": [
    {
     "data": {
      "text/plain": [
       "'senthurapandisenthurapandi'"
      ]
     },
     "execution_count": 33,
     "metadata": {},
     "output_type": "execute_result"
    }
   ],
   "source": [
    "s4*2"
   ]
  },
  {
   "cell_type": "code",
   "execution_count": 34,
   "id": "68be6708",
   "metadata": {},
   "outputs": [],
   "source": [
    "s5 = 'senthurapandi is a good boy'"
   ]
  },
  {
   "cell_type": "code",
   "execution_count": 37,
   "id": "066722c7",
   "metadata": {},
   "outputs": [
    {
     "data": {
      "text/plain": [
       "3"
      ]
     },
     "execution_count": 37,
     "metadata": {},
     "output_type": "execute_result"
    }
   ],
   "source": [
    "s5.count('a')"
   ]
  },
  {
   "cell_type": "code",
   "execution_count": 38,
   "id": "32d795b3",
   "metadata": {},
   "outputs": [
    {
     "data": {
      "text/plain": [
       "['senthurapandi', 'is', 'a', 'good', 'boy']"
      ]
     },
     "execution_count": 38,
     "metadata": {},
     "output_type": "execute_result"
    }
   ],
   "source": [
    "s5.split()"
   ]
  },
  {
   "cell_type": "code",
   "execution_count": 39,
   "id": "5976ca66",
   "metadata": {},
   "outputs": [],
   "source": [
    "para = 'Definitions and Meaning of overlapping in English. overlapping noun. covering with a design in which one element covers a part of another'"
   ]
  },
  {
   "cell_type": "code",
   "execution_count": 40,
   "id": "2b35fa2e",
   "metadata": {},
   "outputs": [
    {
     "data": {
      "text/plain": [
       "'Definitions and Meaning of overlapping in English. overlapping noun. covering with a design in which one element covers a part of another'"
      ]
     },
     "execution_count": 40,
     "metadata": {},
     "output_type": "execute_result"
    }
   ],
   "source": [
    "para"
   ]
  },
  {
   "cell_type": "code",
   "execution_count": 43,
   "id": "267fc13f",
   "metadata": {},
   "outputs": [],
   "source": [
    "s = para.split()"
   ]
  },
  {
   "cell_type": "code",
   "execution_count": 44,
   "id": "db3ec983",
   "metadata": {},
   "outputs": [
    {
     "name": "stdout",
     "output_type": "stream",
     "text": [
      "Definitions\n",
      "and\n",
      "Meaning\n",
      "of\n",
      "overlapping\n",
      "in\n",
      "English.\n",
      "overlapping\n",
      "noun.\n",
      "covering\n",
      "with\n",
      "a\n",
      "design\n",
      "in\n",
      "which\n",
      "one\n",
      "element\n",
      "covers\n",
      "a\n",
      "part\n",
      "of\n",
      "another\n"
     ]
    }
   ],
   "source": [
    "for i in s:\n",
    "    print(i)"
   ]
  },
  {
   "cell_type": "code",
   "execution_count": 50,
   "id": "42f5c32e",
   "metadata": {},
   "outputs": [],
   "source": [
    "s = \"\"\"In a general computing sense, overlaying means the process of transferring a block of program code or other data into main memory, replacing what is already stored. \n",
    "  Overlaying is a programming method that allows programs to be larger than the computers main memory.\"\"\""
   ]
  },
  {
   "cell_type": "code",
   "execution_count": 51,
   "id": "000b950c",
   "metadata": {},
   "outputs": [
    {
     "data": {
      "text/plain": [
       "'In a general computing sense, overlaying means the process of transferring a block of program code or other data into main memory, replacing what is already stored. \\n  Overlaying is a programming method that allows programs to be larger than the computers main memory.'"
      ]
     },
     "execution_count": 51,
     "metadata": {},
     "output_type": "execute_result"
    }
   ],
   "source": [
    "s"
   ]
  },
  {
   "cell_type": "code",
   "execution_count": 52,
   "id": "766b3934",
   "metadata": {
    "scrolled": true
   },
   "outputs": [
    {
     "data": {
      "text/plain": [
       "['In',\n",
       " 'a',\n",
       " 'general',\n",
       " 'computing',\n",
       " 'sense,',\n",
       " 'overlaying',\n",
       " 'means',\n",
       " 'the',\n",
       " 'process',\n",
       " 'of',\n",
       " 'transferring',\n",
       " 'a',\n",
       " 'block',\n",
       " 'of',\n",
       " 'program',\n",
       " 'code',\n",
       " 'or',\n",
       " 'other',\n",
       " 'data',\n",
       " 'into',\n",
       " 'main',\n",
       " 'memory,',\n",
       " 'replacing',\n",
       " 'what',\n",
       " 'is',\n",
       " 'already',\n",
       " 'stored.',\n",
       " 'Overlaying',\n",
       " 'is',\n",
       " 'a',\n",
       " 'programming',\n",
       " 'method',\n",
       " 'that',\n",
       " 'allows',\n",
       " 'programs',\n",
       " 'to',\n",
       " 'be',\n",
       " 'larger',\n",
       " 'than',\n",
       " 'the',\n",
       " 'computers',\n",
       " 'main',\n",
       " 'memory.']"
      ]
     },
     "execution_count": 52,
     "metadata": {},
     "output_type": "execute_result"
    }
   ],
   "source": [
    "s.split()"
   ]
  },
  {
   "cell_type": "code",
   "execution_count": 54,
   "id": "c036de86",
   "metadata": {},
   "outputs": [],
   "source": [
    "s = s.upper()"
   ]
  },
  {
   "cell_type": "code",
   "execution_count": 56,
   "id": "2c470936",
   "metadata": {},
   "outputs": [
    {
     "name": "stdout",
     "output_type": "stream",
     "text": [
      "in a general computing sense, overlaying means the process of transferring a block of program code or other data into main memory, replacing what is already stored. \n",
      "  overlaying is a programming method that allows programs to be larger than the computers main memory.\n"
     ]
    }
   ],
   "source": [
    "s\n",
    "print(s.lower())"
   ]
  },
  {
   "cell_type": "code",
   "execution_count": 58,
   "id": "614ba0bd",
   "metadata": {},
   "outputs": [
    {
     "data": {
      "text/plain": [
       "'Senthura Pandi'"
      ]
     },
     "execution_count": 58,
     "metadata": {},
     "output_type": "execute_result"
    }
   ],
   "source": [
    "l='senthura pandi'\n",
    "l.title()"
   ]
  },
  {
   "cell_type": "code",
   "execution_count": 60,
   "id": "ff456fa7",
   "metadata": {},
   "outputs": [
    {
     "data": {
      "text/plain": [
       "'Senthura pandi'"
      ]
     },
     "execution_count": 60,
     "metadata": {},
     "output_type": "execute_result"
    }
   ],
   "source": [
    "l.capitalize()"
   ]
  },
  {
   "cell_type": "code",
   "execution_count": 61,
   "id": "f99fbf6e",
   "metadata": {},
   "outputs": [
    {
     "data": {
      "text/plain": [
       "'sennTHUR PANDI'"
      ]
     },
     "execution_count": 61,
     "metadata": {},
     "output_type": "execute_result"
    }
   ],
   "source": [
    "r = 'SENNthur pandi'\n",
    "r.swapcase()"
   ]
  },
  {
   "cell_type": "code",
   "execution_count": 65,
   "id": "fca6dc3e",
   "metadata": {},
   "outputs": [
    {
     "name": "stdout",
     "output_type": "stream",
     "text": [
      "idnap ruhtNNES\n"
     ]
    }
   ],
   "source": [
    "reversed(r)#by default it is going to return an object so we should use\n",
    "print(''.join(reversed(r)))"
   ]
  },
  {
   "cell_type": "code",
   "execution_count": 66,
   "id": "1e4cca78",
   "metadata": {},
   "outputs": [
    {
     "data": {
      "text/plain": [
       "'idnap ruhtNNES'"
      ]
     },
     "execution_count": 66,
     "metadata": {},
     "output_type": "execute_result"
    }
   ],
   "source": [
    "#same reverse can be done by\n",
    "r[::-1]"
   ]
  },
  {
   "cell_type": "code",
   "execution_count": 67,
   "id": "8e12a0bc",
   "metadata": {},
   "outputs": [
    {
     "data": {
      "text/plain": [
       "'senthurapandi'"
      ]
     },
     "execution_count": 67,
     "metadata": {},
     "output_type": "execute_result"
    }
   ],
   "source": [
    "m = ' senthurapandi '\n",
    "m.strip()"
   ]
  },
  {
   "cell_type": "code",
   "execution_count": 68,
   "id": "bde331fd",
   "metadata": {},
   "outputs": [
    {
     "data": {
      "text/plain": [
       "'senthurapandi '"
      ]
     },
     "execution_count": 68,
     "metadata": {},
     "output_type": "execute_result"
    }
   ],
   "source": [
    "m.lstrip()"
   ]
  },
  {
   "cell_type": "code",
   "execution_count": 69,
   "id": "36abfdc7",
   "metadata": {},
   "outputs": [
    {
     "data": {
      "text/plain": [
       "' senthurapandi'"
      ]
     },
     "execution_count": 69,
     "metadata": {},
     "output_type": "execute_result"
    }
   ],
   "source": [
    "m.rstrip()"
   ]
  },
  {
   "cell_type": "code",
   "execution_count": 73,
   "id": "365467b9",
   "metadata": {},
   "outputs": [
    {
     "data": {
      "text/plain": [
       "'s,e,n,t,h,u,r,a,p,a,n,d,i'"
      ]
     },
     "execution_count": 73,
     "metadata": {},
     "output_type": "execute_result"
    }
   ],
   "source": [
    "','.join('senthurapandi')"
   ]
  },
  {
   "cell_type": "code",
   "execution_count": 83,
   "id": "7c7a426b",
   "metadata": {},
   "outputs": [
    {
     "data": {
      "text/plain": [
       "'xxxxxxxragavxxxxxxxx'"
      ]
     },
     "execution_count": 83,
     "metadata": {},
     "output_type": "execute_result"
    }
   ],
   "source": [
    "r = 'ragav'\n",
    "r.center(20,'x')"
   ]
  },
  {
   "cell_type": "code",
   "execution_count": 84,
   "id": "75e2a4a1",
   "metadata": {},
   "outputs": [
    {
     "data": {
      "text/plain": [
       "True"
      ]
     },
     "execution_count": 84,
     "metadata": {},
     "output_type": "execute_result"
    }
   ],
   "source": [
    "r.isalpha()"
   ]
  },
  {
   "cell_type": "code",
   "execution_count": 85,
   "id": "fd8b7117",
   "metadata": {},
   "outputs": [
    {
     "data": {
      "text/plain": [
       "True"
      ]
     },
     "execution_count": 85,
     "metadata": {},
     "output_type": "execute_result"
    }
   ],
   "source": [
    "r.isalnum()"
   ]
  },
  {
   "cell_type": "code",
   "execution_count": 86,
   "id": "d8776fa1",
   "metadata": {},
   "outputs": [
    {
     "data": {
      "text/plain": [
       "True"
      ]
     },
     "execution_count": 86,
     "metadata": {},
     "output_type": "execute_result"
    }
   ],
   "source": [
    "r.islower()"
   ]
  },
  {
   "cell_type": "code",
   "execution_count": 87,
   "id": "6654e7fb",
   "metadata": {},
   "outputs": [
    {
     "data": {
      "text/plain": [
       "False"
      ]
     },
     "execution_count": 87,
     "metadata": {},
     "output_type": "execute_result"
    }
   ],
   "source": [
    "r.isupper()"
   ]
  },
  {
   "cell_type": "code",
   "execution_count": 82,
   "id": "e394ba68",
   "metadata": {},
   "outputs": [
    {
     "data": {
      "text/plain": [
       "False"
      ]
     },
     "execution_count": 82,
     "metadata": {},
     "output_type": "execute_result"
    }
   ],
   "source": [
    "r.isspace()"
   ]
  },
  {
   "cell_type": "code",
   "execution_count": 89,
   "id": "9f20f41d",
   "metadata": {},
   "outputs": [
    {
     "data": {
      "text/plain": [
       "True"
      ]
     },
     "execution_count": 89,
     "metadata": {},
     "output_type": "execute_result"
    }
   ],
   "source": [
    "d = '     '\n",
    "d.isspace()"
   ]
  },
  {
   "cell_type": "code",
   "execution_count": 90,
   "id": "a960dd49",
   "metadata": {},
   "outputs": [
    {
     "data": {
      "text/plain": [
       "False"
      ]
     },
     "execution_count": 90,
     "metadata": {},
     "output_type": "execute_result"
    }
   ],
   "source": [
    "d = 'pandi45'\n",
    "d.isdigit()"
   ]
  },
  {
   "cell_type": "code",
   "execution_count": 91,
   "id": "66b2917e",
   "metadata": {},
   "outputs": [
    {
     "data": {
      "text/plain": [
       "True"
      ]
     },
     "execution_count": 91,
     "metadata": {},
     "output_type": "execute_result"
    }
   ],
   "source": [
    "d = '456'\n",
    "d.isdigit()"
   ]
  },
  {
   "cell_type": "code",
   "execution_count": 93,
   "id": "2cace6fe",
   "metadata": {},
   "outputs": [
    {
     "data": {
      "text/plain": [
       "True"
      ]
     },
     "execution_count": 93,
     "metadata": {},
     "output_type": "execute_result"
    }
   ],
   "source": [
    "d = 'pan4556'\n",
    "d.isalnum()"
   ]
  },
  {
   "cell_type": "code",
   "execution_count": 94,
   "id": "26781c13",
   "metadata": {},
   "outputs": [
    {
     "data": {
      "text/plain": [
       "False"
      ]
     },
     "execution_count": 94,
     "metadata": {},
     "output_type": "execute_result"
    }
   ],
   "source": [
    "d = 'pandi'\n",
    "d.startswith('i')"
   ]
  },
  {
   "cell_type": "code",
   "execution_count": 97,
   "id": "1dbf463e",
   "metadata": {},
   "outputs": [
    {
     "data": {
      "text/plain": [
       "False"
      ]
     },
     "execution_count": 97,
     "metadata": {},
     "output_type": "execute_result"
    }
   ],
   "source": [
    "d.startswith('P') #because python is a casesensistive language"
   ]
  },
  {
   "cell_type": "code",
   "execution_count": 104,
   "id": "3e5754f1",
   "metadata": {},
   "outputs": [
    {
     "data": {
      "text/plain": [
       "True"
      ]
     },
     "execution_count": 104,
     "metadata": {},
     "output_type": "execute_result"
    }
   ],
   "source": [
    "d = '4545'\n",
    "d.isnumeric()"
   ]
  },
  {
   "cell_type": "code",
   "execution_count": 105,
   "id": "5f621f53",
   "metadata": {},
   "outputs": [
    {
     "data": {
      "text/plain": [
       "True"
      ]
     },
     "execution_count": 105,
     "metadata": {},
     "output_type": "execute_result"
    }
   ],
   "source": [
    "d.isdigit()"
   ]
  },
  {
   "cell_type": "code",
   "execution_count": 106,
   "id": "6801cb80",
   "metadata": {},
   "outputs": [
    {
     "data": {
      "text/plain": [
       "True"
      ]
     },
     "execution_count": 106,
     "metadata": {},
     "output_type": "execute_result"
    }
   ],
   "source": [
    "d.isascii()"
   ]
  },
  {
   "cell_type": "code",
   "execution_count": 110,
   "id": "27cb74fc",
   "metadata": {},
   "outputs": [
    {
     "data": {
      "text/plain": [
       "'senthura        pandi   '"
      ]
     },
     "execution_count": 110,
     "metadata": {},
     "output_type": "execute_result"
    }
   ],
   "source": [
    "f = 'senthura\\tpandi\\t'\n",
    "f.expandtabs()"
   ]
  },
  {
   "cell_type": "code",
   "execution_count": 111,
   "id": "3fdcb9a2",
   "metadata": {},
   "outputs": [],
   "source": [
    "s = 'this is my first programming class and i am learNING python string and its function'"
   ]
  },
  {
   "cell_type": "code",
   "execution_count": 112,
   "id": "a79d1fa6",
   "metadata": {},
   "outputs": [
    {
     "data": {
      "text/plain": [
       "'tssyitrrmglsnimeNGyosi dtfco'"
      ]
     },
     "execution_count": 112,
     "metadata": {},
     "output_type": "execute_result"
    }
   ],
   "source": [
    "s[0:300:3]"
   ]
  },
  {
   "cell_type": "code",
   "execution_count": 113,
   "id": "be0b03de",
   "metadata": {},
   "outputs": [
    {
     "data": {
      "text/plain": [
       "'noitcnuf sti dna gnirts nohtyp GNINrael ma i dna ssalc gnimmargorp tsrif ym si siht'"
      ]
     },
     "execution_count": 113,
     "metadata": {},
     "output_type": "execute_result"
    }
   ],
   "source": [
    "s[::-1]"
   ]
  },
  {
   "cell_type": "code",
   "execution_count": 116,
   "id": "ce206526",
   "metadata": {},
   "outputs": [
    {
     "name": "stdout",
     "output_type": "stream",
     "text": [
      "THIS IS MY FIRST PROGRAMMING CLASS AND I AM LEARNING PYTHON STRING AND ITS FUNCTION\n"
     ]
    }
   ],
   "source": [
    "f = s.upper()\n",
    "print(f)"
   ]
  },
  {
   "cell_type": "code",
   "execution_count": 117,
   "id": "83099d74",
   "metadata": {},
   "outputs": [
    {
     "data": {
      "text/plain": [
       "['THIS',\n",
       " 'IS',\n",
       " 'MY',\n",
       " 'FIRST',\n",
       " 'PROGRAMMING',\n",
       " 'CLASS',\n",
       " 'AND',\n",
       " 'I',\n",
       " 'AM',\n",
       " 'LEARNING',\n",
       " 'PYTHON',\n",
       " 'STRING',\n",
       " 'AND',\n",
       " 'ITS',\n",
       " 'FUNCTION']"
      ]
     },
     "execution_count": 117,
     "metadata": {},
     "output_type": "execute_result"
    }
   ],
   "source": [
    "f.split()"
   ]
  },
  {
   "cell_type": "code",
   "execution_count": 119,
   "id": "19bcb3c8",
   "metadata": {},
   "outputs": [
    {
     "name": "stdout",
     "output_type": "stream",
     "text": [
      "this is my first programming class and i am learning python string and its function\n"
     ]
    }
   ],
   "source": [
    "s = f.lower()\n",
    "print(s)"
   ]
  },
  {
   "cell_type": "code",
   "execution_count": 120,
   "id": "32ea340d",
   "metadata": {},
   "outputs": [
    {
     "data": {
      "text/plain": [
       "'This is my first programming class and i am learning python string and its function'"
      ]
     },
     "execution_count": 120,
     "metadata": {},
     "output_type": "execute_result"
    }
   ],
   "source": [
    "s.capitalize()"
   ]
  },
  {
   "cell_type": "code",
   "execution_count": 121,
   "id": "55c6ddc7",
   "metadata": {},
   "outputs": [],
   "source": [
    "#diff between isalpha and isnum\n",
    "#isalpha is going to return true if the string is alphabetic and isnum is going to retunr true if the string is numeric"
   ]
  },
  {
   "cell_type": "code",
   "execution_count": 122,
   "id": "bfaac828",
   "metadata": {},
   "outputs": [
    {
     "data": {
      "text/plain": [
       "'senthurapandi   is      a       good    boy     '"
      ]
     },
     "execution_count": 122,
     "metadata": {},
     "output_type": "execute_result"
    }
   ],
   "source": [
    "d = 'senthurapandi\\tis\\ta\\tgood\\tboy\\t'\n",
    "d.expandtabs()"
   ]
  },
  {
   "cell_type": "code",
   "execution_count": 125,
   "id": "2ff9f462",
   "metadata": {},
   "outputs": [
    {
     "name": "stdout",
     "output_type": "stream",
     "text": [
      "senthurapandi  \n",
      " senthurapandi\n"
     ]
    }
   ],
   "source": [
    "d = ' senthurapandi  '\n",
    "print(d.lstrip())\n",
    "print(d.rstrip())"
   ]
  },
  {
   "cell_type": "code",
   "execution_count": 126,
   "id": "1aa7017e",
   "metadata": {},
   "outputs": [
    {
     "data": {
      "text/plain": [
       "'>>>>>>senthura>>>>>>'"
      ]
     },
     "execution_count": 126,
     "metadata": {},
     "output_type": "execute_result"
    }
   ],
   "source": [
    "d = 'senthura'\n",
    "d.center(20,'>')"
   ]
  },
  {
   "cell_type": "code",
   "execution_count": null,
   "id": "072b73a6",
   "metadata": {},
   "outputs": [],
   "source": []
  }
 ],
 "metadata": {
  "kernelspec": {
   "display_name": "Python 3",
   "language": "python",
   "name": "python3"
  },
  "language_info": {
   "codemirror_mode": {
    "name": "ipython",
    "version": 3
   },
   "file_extension": ".py",
   "mimetype": "text/x-python",
   "name": "python",
   "nbconvert_exporter": "python",
   "pygments_lexer": "ipython3",
   "version": "3.8.8"
  }
 },
 "nbformat": 4,
 "nbformat_minor": 5
}
